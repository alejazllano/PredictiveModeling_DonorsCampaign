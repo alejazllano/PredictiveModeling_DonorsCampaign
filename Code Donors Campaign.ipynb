{
 "cells": [
  {
   "cell_type": "markdown",
   "metadata": {},
   "source": [
    "\n",
    "### Group Project Descriptive & Predictive Analytics\n",
    "### DSC Re-Activation Campaign"
   ]
  },
  {
   "cell_type": "markdown",
   "metadata": {},
   "source": [
    "#### 1. Importing Libraries"
   ]
  },
  {
   "cell_type": "code",
   "execution_count": 1,
   "metadata": {},
   "outputs": [],
   "source": [
    "import sys\n",
    "import pandas as pd\n",
    "import numpy as np\n",
    "from sklearn.preprocessing     import StandardScaler\n",
    "from pandas                    import DataFrame\n",
    "from pandas                    import read_csv\n",
    "from numpy                     import array\n",
    "from numpy                     import random\n",
    "from sklearn.linear_model      import LogisticRegression \n",
    "from sklearn.metrics           import auc\n",
    "from sklearn.metrics           import roc_auc_score\n",
    "from matplotlib                import pyplot\n",
    "from datetime                  import datetime\n",
    "from scipy.stats               import pearsonr\n",
    "from sklearn.model_selection   import train_test_split\n",
    "from sklearn.tree              import DecisionTreeRegressor  \n",
    "from sklearn.metrics           import r2_score\n",
    "from sklearn.metrics           import roc_curve\n",
    "from sklearn.metrics           import confusion_matrix\n",
    "from sklearn.ensemble          import BaggingClassifier\n",
    "from sklearn.ensemble          import GradientBoostingClassifier\n",
    "from sklearn.decomposition     import PCA"
   ]
  },
  {
   "cell_type": "code",
   "execution_count": 2,
   "metadata": {},
   "outputs": [],
   "source": [
    "from pandasql import sqldf\n",
    "pysqldf = lambda q: sqldf(q, globals())"
   ]
  },
  {
   "cell_type": "code",
   "execution_count": 3,
   "metadata": {},
   "outputs": [
    {
     "name": "stdout",
     "output_type": "stream",
     "text": [
      "Requirement already satisfied: scikit-plot in c:\\programdata\\anaconda3\\lib\\site-packages (0.3.7)\n",
      "Requirement already satisfied: matplotlib>=1.4.0 in c:\\programdata\\anaconda3\\lib\\site-packages (from scikit-plot) (3.1.0)\n",
      "Requirement already satisfied: joblib>=0.10 in c:\\programdata\\anaconda3\\lib\\site-packages (from scikit-plot) (0.13.2)\n",
      "Requirement already satisfied: scipy>=0.9 in c:\\programdata\\anaconda3\\lib\\site-packages (from scikit-plot) (1.2.1)\n",
      "Requirement already satisfied: scikit-learn>=0.18 in c:\\programdata\\anaconda3\\lib\\site-packages (from scikit-plot) (0.21.2)\n",
      "Requirement already satisfied: cycler>=0.10 in c:\\programdata\\anaconda3\\lib\\site-packages (from matplotlib>=1.4.0->scikit-plot) (0.10.0)\n",
      "Requirement already satisfied: kiwisolver>=1.0.1 in c:\\programdata\\anaconda3\\lib\\site-packages (from matplotlib>=1.4.0->scikit-plot) (1.1.0)\n",
      "Requirement already satisfied: pyparsing!=2.0.4,!=2.1.2,!=2.1.6,>=2.0.1 in c:\\programdata\\anaconda3\\lib\\site-packages (from matplotlib>=1.4.0->scikit-plot) (2.4.0)\n",
      "Requirement already satisfied: python-dateutil>=2.1 in c:\\programdata\\anaconda3\\lib\\site-packages (from matplotlib>=1.4.0->scikit-plot) (2.8.0)\n",
      "Requirement already satisfied: numpy>=1.11 in c:\\programdata\\anaconda3\\lib\\site-packages (from matplotlib>=1.4.0->scikit-plot) (1.16.4)\n",
      "Requirement already satisfied: six in c:\\programdata\\anaconda3\\lib\\site-packages (from cycler>=0.10->matplotlib>=1.4.0->scikit-plot) (1.12.0)\n",
      "Requirement already satisfied: setuptools in c:\\programdata\\anaconda3\\lib\\site-packages (from kiwisolver>=1.0.1->matplotlib>=1.4.0->scikit-plot) (41.0.1)\n",
      "Note: you may need to restart the kernel to use updated packages.\n"
     ]
    }
   ],
   "source": [
    "pip install scikit-plot"
   ]
  },
  {
   "cell_type": "code",
   "execution_count": 4,
   "metadata": {},
   "outputs": [],
   "source": [
    "import scikitplot as skplt"
   ]
  },
  {
   "cell_type": "markdown",
   "metadata": {},
   "source": [
    "#### 2. Importing the databases: "
   ]
  },
  {
   "cell_type": "code",
   "execution_count": 5,
   "metadata": {},
   "outputs": [],
   "source": [
    "# Defining paths\n",
    "\n",
    "directory = \"C:/Users/azambranollano/Documents/Alejandra/Descriptive & Predictive Analytics/Project\"\n",
    "campaign13 = directory + \"/campaign20130411.csv\"\n",
    "campaign14 = directory + \"/campaign20140115.csv\"\n",
    "donors = directory + \"/donors.csv\"\n",
    "gifts = directory + \"/gifts.csv\""
   ]
  },
  {
   "cell_type": "code",
   "execution_count": 6,
   "metadata": {},
   "outputs": [],
   "source": [
    "# Importing databases\n",
    "\n",
    "campaign13_data = read_csv(campaign13 , sep = \";\")\n",
    "campaign14_data = read_csv(campaign14 , sep = \";\")\n",
    "donors_data = read_csv(donors , sep = \";\", decimal = \".\")\n",
    "gifts_data = read_csv(gifts , sep = \";\", decimal = \".\")"
   ]
  },
  {
   "cell_type": "code",
   "execution_count": 7,
   "metadata": {},
   "outputs": [],
   "source": [
    "#Importing local libraries\n",
    "\n",
    "from ieseg import partition\n",
    "from ieseg import roc\n",
    "from ieseg import lift\n",
    "from ieseg import cumulativeResponse\n",
    "from ieseg import cumulativeGains"
   ]
  },
  {
   "cell_type": "markdown",
   "metadata": {},
   "source": [
    "#### 3. Cleaning the databases: "
   ]
  },
  {
   "cell_type": "code",
   "execution_count": 8,
   "metadata": {},
   "outputs": [],
   "source": [
    "# Cleaning campaign13_data\n",
    "\n",
    "campaign13_data[\"donorID\"] = campaign13_data[\"donorID\"].astype(str)\n",
    "campaign13_data[\"amount\"] = campaign13_data[\"amount\"].astype(float)"
   ]
  },
  {
   "cell_type": "code",
   "execution_count": 9,
   "metadata": {},
   "outputs": [],
   "source": [
    "# Cleaning campaign14_data\n",
    "\n",
    "campaign14_data[\"donorID\"] = campaign14_data[\"donorID\"].astype(str)\n",
    "campaign14_data[\"amount\"] = campaign14_data[\"amount\"].astype(float)"
   ]
  },
  {
   "cell_type": "code",
   "execution_count": 10,
   "metadata": {},
   "outputs": [],
   "source": [
    "# Cleaning donors_data\n",
    "\n",
    "donors_data[\"donorID\"] = donors_data[\"donorID\"].astype(str)\n",
    "\n",
    "donors_data.gender[donors_data.gender == 'M'] = 'Male'\n",
    "donors_data.gender[donors_data.gender == 'F'] = 'Female'\n",
    "donors_data.gender[donors_data.gender == 'C'] = 'Couple'\n",
    "donors_data.gender[donors_data.gender == 'S'] = 'Solo'\n",
    "donors_data.gender[donors_data.gender == 'U'] = 'Unknown'\n",
    "\n",
    "donors_data.language[donors_data.language == 'N'] = 0\n",
    "donors_data.language[donors_data.language == 'F'] = 1\n",
    "\n",
    "donors_data['zipcode']=donors_data['zipcode'].str.replace('[^0-9]','0')\n",
    "donors_data.zipcode[donors_data.zipcode == 0] = '0'\n",
    "donors_data.zipcode[donors_data.zipcode.isna()]='0'\n",
    "donors_data[\"zipcode\"] = donors_data[\"zipcode\"].astype(int)\n",
    "\n",
    "donors_data[\"region\"] = donors_data[\"region\"].astype(str)"
   ]
  },
  {
   "cell_type": "code",
   "execution_count": 11,
   "metadata": {},
   "outputs": [],
   "source": [
    "# Creating dummies variable in varible gender\n",
    "\n",
    "gender_ohe = pd.get_dummies(donors_data['gender'])\n",
    "donors_data = donors_data.drop(\"gender\", axis = 1)"
   ]
  },
  {
   "cell_type": "code",
   "execution_count": 12,
   "metadata": {},
   "outputs": [],
   "source": [
    "# We will use zipcodes in order to identify the regions\n",
    "\n",
    "donors_data = donors_data.drop(\"region\", axis = 1)"
   ]
  },
  {
   "cell_type": "code",
   "execution_count": 13,
   "metadata": {},
   "outputs": [],
   "source": [
    "# Provinces by zipcodes\n",
    "\n",
    "Provinces=[]\n",
    "\n",
    "for i in donors_data.zipcode:\n",
    "    \n",
    "    if((i >= 1000) & (i < 1300)):\n",
    "        Provinces.append(\"Brussels\")\n",
    "    \n",
    "    elif(i < 1500):\n",
    "        Provinces.append(\"Walloon Brabant\")\n",
    "    \n",
    "    elif(i < 2000):\n",
    "        Provinces.append(\"Flemish Brabant\")\n",
    "\n",
    "    elif(i < 3000):\n",
    "        Provinces.append(\"Antwerp\")\n",
    "    \n",
    "    elif(i < 3500):\n",
    "        Provinces.append(\"Flemish Brabant\")\n",
    "    \n",
    "    elif(i < 4000):\n",
    "        Provinces.append(\"Limburg\")\n",
    "    \n",
    "    elif(i < 5000):\n",
    "        Provinces.append(\"Liege\")\n",
    "    \n",
    "    elif(i < 6000):\n",
    "        Provinces.append(\"Namur\")\n",
    "    \n",
    "    elif(i < 6600):\n",
    "        Provinces.append(\"Hainaut\")\n",
    "    \n",
    "    else:\n",
    "        Provinces.append(\"Missing\")\n"
   ]
  },
  {
   "cell_type": "code",
   "execution_count": 14,
   "metadata": {},
   "outputs": [],
   "source": [
    "# States by zipcodes\n",
    "\n",
    "States=[]\n",
    "\n",
    "for i in donors_data.zipcode:\n",
    "       \n",
    "    if((i >= 1000) & (i < 1300)):\n",
    "        States.append(\"S_Brussels\")\n",
    "    \n",
    "    elif(i < 1500):\n",
    "        States.append(\"S_Wallonia\")\n",
    "    \n",
    "    elif(i < 4000):\n",
    "        States.append(\"S_Flanders\")\n",
    "\n",
    "    elif(i < 8000):\n",
    "        States.append(\"S_Wallonia\")\n",
    "    \n",
    "    elif(i < 10000):\n",
    "        States.append(\"S_Flanders\")\n",
    "    \n",
    "    else:\n",
    "        States.append(\"S_Missing\")\n",
    "\n",
    "    "
   ]
  },
  {
   "cell_type": "code",
   "execution_count": 15,
   "metadata": {},
   "outputs": [],
   "source": [
    "# Adding columns state and province in donnors table\n",
    "\n",
    "States=pd.DataFrame(States)\n",
    "Provinces=pd.DataFrame(Provinces)\n",
    "donors_data[\"states\"]=States\n",
    "donors_data[\"province\"]=Provinces"
   ]
  },
  {
   "cell_type": "code",
   "execution_count": 16,
   "metadata": {},
   "outputs": [],
   "source": [
    "# Format date in gifts data and divifing date beetwen after and before 20130410 \n",
    "\n",
    "gifts_data['date']=pd.to_datetime(gifts_data['date'], format='%d/%m/%Y')\n",
    "gifts2013=(gifts_data[gifts_data.date<=pd.to_datetime('2013-03-27')])\n",
    "gifts2014=(gifts_data[gifts_data.date<=pd.to_datetime('2014-01-01')])"
   ]
  },
  {
   "cell_type": "code",
   "execution_count": 17,
   "metadata": {},
   "outputs": [],
   "source": [
    "# Joining and creating dummies variables states and province\n",
    "\n",
    "donors_data = pd.concat([donors_data,gender_ohe], axis = 1, sort = False)\n",
    "states_ohe = pd.get_dummies(donors_data['states'])\n",
    "provinces_ohe = pd.get_dummies(donors_data['province'])\n",
    "donors_data = pd.concat([donors_data,states_ohe,provinces_ohe], axis = 1, sort = False)\n",
    "donors_data = donors_data.drop(['states','province','zipcode'], axis=1)"
   ]
  },
  {
   "cell_type": "code",
   "execution_count": 18,
   "metadata": {},
   "outputs": [
    {
     "name": "stderr",
     "output_type": "stream",
     "text": [
      "C:\\ProgramData\\Anaconda3\\lib\\site-packages\\ipykernel_launcher.py:2: SettingWithCopyWarning: \n",
      "A value is trying to be set on a copy of a slice from a DataFrame.\n",
      "Try using .loc[row_indexer,col_indexer] = value instead\n",
      "\n",
      "See the caveats in the documentation: http://pandas.pydata.org/pandas-docs/stable/indexing.html#indexing-view-versus-copy\n",
      "  \n",
      "C:\\ProgramData\\Anaconda3\\lib\\site-packages\\ipykernel_launcher.py:3: SettingWithCopyWarning: \n",
      "A value is trying to be set on a copy of a slice from a DataFrame.\n",
      "Try using .loc[row_indexer,col_indexer] = value instead\n",
      "\n",
      "See the caveats in the documentation: http://pandas.pydata.org/pandas-docs/stable/indexing.html#indexing-view-versus-copy\n",
      "  This is separate from the ipykernel package so we can avoid doing imports until\n",
      "C:\\ProgramData\\Anaconda3\\lib\\site-packages\\ipykernel_launcher.py:4: SettingWithCopyWarning: \n",
      "A value is trying to be set on a copy of a slice from a DataFrame.\n",
      "Try using .loc[row_indexer,col_indexer] = value instead\n",
      "\n",
      "See the caveats in the documentation: http://pandas.pydata.org/pandas-docs/stable/indexing.html#indexing-view-versus-copy\n",
      "  after removing the cwd from sys.path.\n",
      "C:\\ProgramData\\Anaconda3\\lib\\site-packages\\ipykernel_launcher.py:5: SettingWithCopyWarning: \n",
      "A value is trying to be set on a copy of a slice from a DataFrame.\n",
      "Try using .loc[row_indexer,col_indexer] = value instead\n",
      "\n",
      "See the caveats in the documentation: http://pandas.pydata.org/pandas-docs/stable/indexing.html#indexing-view-versus-copy\n",
      "  \"\"\"\n",
      "C:\\ProgramData\\Anaconda3\\lib\\site-packages\\ipykernel_launcher.py:6: SettingWithCopyWarning: \n",
      "A value is trying to be set on a copy of a slice from a DataFrame.\n",
      "Try using .loc[row_indexer,col_indexer] = value instead\n",
      "\n",
      "See the caveats in the documentation: http://pandas.pydata.org/pandas-docs/stable/indexing.html#indexing-view-versus-copy\n",
      "  \n"
     ]
    }
   ],
   "source": [
    "# Dummies previous 2013\n",
    "gifts2013[\"gifts last year\"] = gifts2013.date.apply( lambda x:1 if x> datetime(2012, 1, 1) else 0)\n",
    "gifts2013[\"gifts last 2year\"] = gifts2013.date.apply( lambda x:1 if datetime(2012,1,1)>x> datetime(2011, 1, 1) else 0)\n",
    "gifts2013[\"gifts last 5year\"] = gifts2013.date.apply( lambda x:1 if datetime(2011,1,1)>x> datetime(2008, 1, 1) else 0)\n",
    "gifts2013[\"gifts last 10year\"] = gifts2013.date.apply( lambda x:1 if datetime(2008,1,1)>x> datetime(2003, 1, 1) else 0)\n",
    "gifts2013[\"gifts last 23year\"] = gifts2013.date.apply( lambda x:1 if datetime(2003,1,1)>x> datetime(1995, 1, 1) else 0)"
   ]
  },
  {
   "cell_type": "code",
   "execution_count": 19,
   "metadata": {},
   "outputs": [
    {
     "name": "stderr",
     "output_type": "stream",
     "text": [
      "C:\\ProgramData\\Anaconda3\\lib\\site-packages\\ipykernel_launcher.py:1: SettingWithCopyWarning: \n",
      "A value is trying to be set on a copy of a slice from a DataFrame\n",
      "\n",
      "See the caveats in the documentation: http://pandas.pydata.org/pandas-docs/stable/indexing.html#indexing-view-versus-copy\n",
      "  \"\"\"Entry point for launching an IPython kernel.\n",
      "C:\\ProgramData\\Anaconda3\\lib\\site-packages\\pandas\\core\\generic.py:8682: SettingWithCopyWarning: \n",
      "A value is trying to be set on a copy of a slice from a DataFrame\n",
      "\n",
      "See the caveats in the documentation: http://pandas.pydata.org/pandas-docs/stable/indexing.html#indexing-view-versus-copy\n",
      "  self._update_inplace(new_data)\n",
      "C:\\ProgramData\\Anaconda3\\lib\\site-packages\\IPython\\core\\interactiveshell.py:3325: SettingWithCopyWarning: \n",
      "A value is trying to be set on a copy of a slice from a DataFrame\n",
      "\n",
      "See the caveats in the documentation: http://pandas.pydata.org/pandas-docs/stable/indexing.html#indexing-view-versus-copy\n",
      "  exec(code_obj, self.user_global_ns, self.user_ns)\n",
      "C:\\ProgramData\\Anaconda3\\lib\\site-packages\\ipykernel_launcher.py:2: SettingWithCopyWarning: \n",
      "A value is trying to be set on a copy of a slice from a DataFrame\n",
      "\n",
      "See the caveats in the documentation: http://pandas.pydata.org/pandas-docs/stable/indexing.html#indexing-view-versus-copy\n",
      "  \n",
      "C:\\ProgramData\\Anaconda3\\lib\\site-packages\\pandas\\core\\generic.py:8682: SettingWithCopyWarning: \n",
      "A value is trying to be set on a copy of a slice from a DataFrame\n",
      "\n",
      "See the caveats in the documentation: http://pandas.pydata.org/pandas-docs/stable/indexing.html#indexing-view-versus-copy\n",
      "  self._update_inplace(new_data)\n",
      "C:\\ProgramData\\Anaconda3\\lib\\site-packages\\IPython\\core\\interactiveshell.py:3325: SettingWithCopyWarning: \n",
      "A value is trying to be set on a copy of a slice from a DataFrame\n",
      "\n",
      "See the caveats in the documentation: http://pandas.pydata.org/pandas-docs/stable/indexing.html#indexing-view-versus-copy\n",
      "  exec(code_obj, self.user_global_ns, self.user_ns)\n",
      "C:\\ProgramData\\Anaconda3\\lib\\site-packages\\ipykernel_launcher.py:3: SettingWithCopyWarning: \n",
      "A value is trying to be set on a copy of a slice from a DataFrame\n",
      "\n",
      "See the caveats in the documentation: http://pandas.pydata.org/pandas-docs/stable/indexing.html#indexing-view-versus-copy\n",
      "  This is separate from the ipykernel package so we can avoid doing imports until\n",
      "C:\\ProgramData\\Anaconda3\\lib\\site-packages\\pandas\\core\\generic.py:8682: SettingWithCopyWarning: \n",
      "A value is trying to be set on a copy of a slice from a DataFrame\n",
      "\n",
      "See the caveats in the documentation: http://pandas.pydata.org/pandas-docs/stable/indexing.html#indexing-view-versus-copy\n",
      "  self._update_inplace(new_data)\n",
      "C:\\ProgramData\\Anaconda3\\lib\\site-packages\\IPython\\core\\interactiveshell.py:3325: SettingWithCopyWarning: \n",
      "A value is trying to be set on a copy of a slice from a DataFrame\n",
      "\n",
      "See the caveats in the documentation: http://pandas.pydata.org/pandas-docs/stable/indexing.html#indexing-view-versus-copy\n",
      "  exec(code_obj, self.user_global_ns, self.user_ns)\n",
      "C:\\ProgramData\\Anaconda3\\lib\\site-packages\\ipykernel_launcher.py:4: SettingWithCopyWarning: \n",
      "A value is trying to be set on a copy of a slice from a DataFrame\n",
      "\n",
      "See the caveats in the documentation: http://pandas.pydata.org/pandas-docs/stable/indexing.html#indexing-view-versus-copy\n",
      "  after removing the cwd from sys.path.\n",
      "C:\\ProgramData\\Anaconda3\\lib\\site-packages\\pandas\\core\\generic.py:8682: SettingWithCopyWarning: \n",
      "A value is trying to be set on a copy of a slice from a DataFrame\n",
      "\n",
      "See the caveats in the documentation: http://pandas.pydata.org/pandas-docs/stable/indexing.html#indexing-view-versus-copy\n",
      "  self._update_inplace(new_data)\n",
      "C:\\ProgramData\\Anaconda3\\lib\\site-packages\\IPython\\core\\interactiveshell.py:3325: SettingWithCopyWarning: \n",
      "A value is trying to be set on a copy of a slice from a DataFrame\n",
      "\n",
      "See the caveats in the documentation: http://pandas.pydata.org/pandas-docs/stable/indexing.html#indexing-view-versus-copy\n",
      "  exec(code_obj, self.user_global_ns, self.user_ns)\n",
      "C:\\ProgramData\\Anaconda3\\lib\\site-packages\\ipykernel_launcher.py:5: SettingWithCopyWarning: \n",
      "A value is trying to be set on a copy of a slice from a DataFrame\n",
      "\n",
      "See the caveats in the documentation: http://pandas.pydata.org/pandas-docs/stable/indexing.html#indexing-view-versus-copy\n",
      "  \"\"\"\n",
      "C:\\ProgramData\\Anaconda3\\lib\\site-packages\\pandas\\core\\generic.py:8682: SettingWithCopyWarning: \n",
      "A value is trying to be set on a copy of a slice from a DataFrame\n",
      "\n",
      "See the caveats in the documentation: http://pandas.pydata.org/pandas-docs/stable/indexing.html#indexing-view-versus-copy\n",
      "  self._update_inplace(new_data)\n",
      "C:\\ProgramData\\Anaconda3\\lib\\site-packages\\IPython\\core\\interactiveshell.py:3325: SettingWithCopyWarning: \n",
      "A value is trying to be set on a copy of a slice from a DataFrame\n",
      "\n",
      "See the caveats in the documentation: http://pandas.pydata.org/pandas-docs/stable/indexing.html#indexing-view-versus-copy\n",
      "  exec(code_obj, self.user_global_ns, self.user_ns)\n"
     ]
    }
   ],
   "source": [
    "gifts2013[\"gifts last year\"][gifts2013[\"gifts last year\"]==1]=gifts2013[\"amount\"]\n",
    "gifts2013[\"gifts last 2year\"][gifts2013[\"gifts last 2year\"]==1]=gifts2013[\"amount\"]\n",
    "gifts2013[\"gifts last 5year\"][gifts2013[\"gifts last 5year\"]==1]=gifts2013[\"amount\"]\n",
    "gifts2013[\"gifts last 10year\"][gifts2013[\"gifts last 10year\"]==1]=gifts2013[\"amount\"]\n",
    "gifts2013[\"gifts last 23year\"][gifts2013[\"gifts last 23year\"]==1]=gifts2013[\"amount\"]"
   ]
  },
  {
   "cell_type": "code",
   "execution_count": 20,
   "metadata": {},
   "outputs": [
    {
     "name": "stderr",
     "output_type": "stream",
     "text": [
      "C:\\ProgramData\\Anaconda3\\lib\\site-packages\\ipykernel_launcher.py:3: SettingWithCopyWarning: \n",
      "A value is trying to be set on a copy of a slice from a DataFrame.\n",
      "Try using .loc[row_indexer,col_indexer] = value instead\n",
      "\n",
      "See the caveats in the documentation: http://pandas.pydata.org/pandas-docs/stable/indexing.html#indexing-view-versus-copy\n",
      "  This is separate from the ipykernel package so we can avoid doing imports until\n",
      "C:\\ProgramData\\Anaconda3\\lib\\site-packages\\ipykernel_launcher.py:4: SettingWithCopyWarning: \n",
      "A value is trying to be set on a copy of a slice from a DataFrame.\n",
      "Try using .loc[row_indexer,col_indexer] = value instead\n",
      "\n",
      "See the caveats in the documentation: http://pandas.pydata.org/pandas-docs/stable/indexing.html#indexing-view-versus-copy\n",
      "  after removing the cwd from sys.path.\n",
      "C:\\ProgramData\\Anaconda3\\lib\\site-packages\\ipykernel_launcher.py:5: SettingWithCopyWarning: \n",
      "A value is trying to be set on a copy of a slice from a DataFrame.\n",
      "Try using .loc[row_indexer,col_indexer] = value instead\n",
      "\n",
      "See the caveats in the documentation: http://pandas.pydata.org/pandas-docs/stable/indexing.html#indexing-view-versus-copy\n",
      "  \"\"\"\n",
      "C:\\ProgramData\\Anaconda3\\lib\\site-packages\\ipykernel_launcher.py:6: SettingWithCopyWarning: \n",
      "A value is trying to be set on a copy of a slice from a DataFrame.\n",
      "Try using .loc[row_indexer,col_indexer] = value instead\n",
      "\n",
      "See the caveats in the documentation: http://pandas.pydata.org/pandas-docs/stable/indexing.html#indexing-view-versus-copy\n",
      "  \n",
      "C:\\ProgramData\\Anaconda3\\lib\\site-packages\\ipykernel_launcher.py:7: SettingWithCopyWarning: \n",
      "A value is trying to be set on a copy of a slice from a DataFrame.\n",
      "Try using .loc[row_indexer,col_indexer] = value instead\n",
      "\n",
      "See the caveats in the documentation: http://pandas.pydata.org/pandas-docs/stable/indexing.html#indexing-view-versus-copy\n",
      "  import sys\n"
     ]
    }
   ],
   "source": [
    "# Dummies previous 2014\n",
    "\n",
    "gifts2014[\"gifts last year\"] = gifts2014.date.apply( lambda x:1 if x> datetime(2013, 1, 1) else 0)\n",
    "gifts2014[\"gifts last 2year\"] = gifts2014.date.apply( lambda x:1 if datetime(2013, 1, 1)>x> datetime(2012, 1, 1) else 0)\n",
    "gifts2014[\"gifts last 5year\"] = gifts2014.date.apply( lambda x:1 if datetime(2012, 1, 1)>x> datetime(2009, 1, 1) else 0)\n",
    "gifts2014[\"gifts last 10year\"] = gifts2014.date.apply( lambda x:1 if datetime(2009, 1, 1)>x> datetime(2004, 1, 1) else 0)\n",
    "gifts2014[\"gifts last 23year\"] = gifts2014.date.apply( lambda x:1 if datetime(2004, 1, 1)>x> datetime(1996, 1, 1) else 0)"
   ]
  },
  {
   "cell_type": "code",
   "execution_count": 21,
   "metadata": {},
   "outputs": [
    {
     "name": "stderr",
     "output_type": "stream",
     "text": [
      "C:\\ProgramData\\Anaconda3\\lib\\site-packages\\ipykernel_launcher.py:1: SettingWithCopyWarning: \n",
      "A value is trying to be set on a copy of a slice from a DataFrame\n",
      "\n",
      "See the caveats in the documentation: http://pandas.pydata.org/pandas-docs/stable/indexing.html#indexing-view-versus-copy\n",
      "  \"\"\"Entry point for launching an IPython kernel.\n",
      "C:\\ProgramData\\Anaconda3\\lib\\site-packages\\pandas\\core\\generic.py:8682: SettingWithCopyWarning: \n",
      "A value is trying to be set on a copy of a slice from a DataFrame\n",
      "\n",
      "See the caveats in the documentation: http://pandas.pydata.org/pandas-docs/stable/indexing.html#indexing-view-versus-copy\n",
      "  self._update_inplace(new_data)\n",
      "C:\\ProgramData\\Anaconda3\\lib\\site-packages\\IPython\\core\\interactiveshell.py:3325: SettingWithCopyWarning: \n",
      "A value is trying to be set on a copy of a slice from a DataFrame\n",
      "\n",
      "See the caveats in the documentation: http://pandas.pydata.org/pandas-docs/stable/indexing.html#indexing-view-versus-copy\n",
      "  exec(code_obj, self.user_global_ns, self.user_ns)\n",
      "C:\\ProgramData\\Anaconda3\\lib\\site-packages\\ipykernel_launcher.py:2: SettingWithCopyWarning: \n",
      "A value is trying to be set on a copy of a slice from a DataFrame\n",
      "\n",
      "See the caveats in the documentation: http://pandas.pydata.org/pandas-docs/stable/indexing.html#indexing-view-versus-copy\n",
      "  \n",
      "C:\\ProgramData\\Anaconda3\\lib\\site-packages\\pandas\\core\\generic.py:8682: SettingWithCopyWarning: \n",
      "A value is trying to be set on a copy of a slice from a DataFrame\n",
      "\n",
      "See the caveats in the documentation: http://pandas.pydata.org/pandas-docs/stable/indexing.html#indexing-view-versus-copy\n",
      "  self._update_inplace(new_data)\n",
      "C:\\ProgramData\\Anaconda3\\lib\\site-packages\\IPython\\core\\interactiveshell.py:3325: SettingWithCopyWarning: \n",
      "A value is trying to be set on a copy of a slice from a DataFrame\n",
      "\n",
      "See the caveats in the documentation: http://pandas.pydata.org/pandas-docs/stable/indexing.html#indexing-view-versus-copy\n",
      "  exec(code_obj, self.user_global_ns, self.user_ns)\n",
      "C:\\ProgramData\\Anaconda3\\lib\\site-packages\\ipykernel_launcher.py:3: SettingWithCopyWarning: \n",
      "A value is trying to be set on a copy of a slice from a DataFrame\n",
      "\n",
      "See the caveats in the documentation: http://pandas.pydata.org/pandas-docs/stable/indexing.html#indexing-view-versus-copy\n",
      "  This is separate from the ipykernel package so we can avoid doing imports until\n",
      "C:\\ProgramData\\Anaconda3\\lib\\site-packages\\pandas\\core\\generic.py:8682: SettingWithCopyWarning: \n",
      "A value is trying to be set on a copy of a slice from a DataFrame\n",
      "\n",
      "See the caveats in the documentation: http://pandas.pydata.org/pandas-docs/stable/indexing.html#indexing-view-versus-copy\n",
      "  self._update_inplace(new_data)\n",
      "C:\\ProgramData\\Anaconda3\\lib\\site-packages\\IPython\\core\\interactiveshell.py:3325: SettingWithCopyWarning: \n",
      "A value is trying to be set on a copy of a slice from a DataFrame\n",
      "\n",
      "See the caveats in the documentation: http://pandas.pydata.org/pandas-docs/stable/indexing.html#indexing-view-versus-copy\n",
      "  exec(code_obj, self.user_global_ns, self.user_ns)\n",
      "C:\\ProgramData\\Anaconda3\\lib\\site-packages\\ipykernel_launcher.py:4: SettingWithCopyWarning: \n",
      "A value is trying to be set on a copy of a slice from a DataFrame\n",
      "\n",
      "See the caveats in the documentation: http://pandas.pydata.org/pandas-docs/stable/indexing.html#indexing-view-versus-copy\n",
      "  after removing the cwd from sys.path.\n",
      "C:\\ProgramData\\Anaconda3\\lib\\site-packages\\pandas\\core\\generic.py:8682: SettingWithCopyWarning: \n",
      "A value is trying to be set on a copy of a slice from a DataFrame\n",
      "\n",
      "See the caveats in the documentation: http://pandas.pydata.org/pandas-docs/stable/indexing.html#indexing-view-versus-copy\n",
      "  self._update_inplace(new_data)\n",
      "C:\\ProgramData\\Anaconda3\\lib\\site-packages\\IPython\\core\\interactiveshell.py:3325: SettingWithCopyWarning: \n",
      "A value is trying to be set on a copy of a slice from a DataFrame\n",
      "\n",
      "See the caveats in the documentation: http://pandas.pydata.org/pandas-docs/stable/indexing.html#indexing-view-versus-copy\n",
      "  exec(code_obj, self.user_global_ns, self.user_ns)\n",
      "C:\\ProgramData\\Anaconda3\\lib\\site-packages\\ipykernel_launcher.py:5: SettingWithCopyWarning: \n",
      "A value is trying to be set on a copy of a slice from a DataFrame\n",
      "\n",
      "See the caveats in the documentation: http://pandas.pydata.org/pandas-docs/stable/indexing.html#indexing-view-versus-copy\n",
      "  \"\"\"\n",
      "C:\\ProgramData\\Anaconda3\\lib\\site-packages\\pandas\\core\\generic.py:8682: SettingWithCopyWarning: \n",
      "A value is trying to be set on a copy of a slice from a DataFrame\n",
      "\n",
      "See the caveats in the documentation: http://pandas.pydata.org/pandas-docs/stable/indexing.html#indexing-view-versus-copy\n",
      "  self._update_inplace(new_data)\n",
      "C:\\ProgramData\\Anaconda3\\lib\\site-packages\\IPython\\core\\interactiveshell.py:3325: SettingWithCopyWarning: \n",
      "A value is trying to be set on a copy of a slice from a DataFrame\n",
      "\n",
      "See the caveats in the documentation: http://pandas.pydata.org/pandas-docs/stable/indexing.html#indexing-view-versus-copy\n",
      "  exec(code_obj, self.user_global_ns, self.user_ns)\n"
     ]
    }
   ],
   "source": [
    "gifts2014[\"gifts last year\"][gifts2014[\"gifts last year\"]==1]=gifts2014[\"amount\"]\n",
    "gifts2014[\"gifts last 2year\"][gifts2014[\"gifts last 2year\"]==1]=gifts2014[\"amount\"]\n",
    "gifts2014[\"gifts last 5year\"][gifts2014[\"gifts last 5year\"]==1]=gifts2014[\"amount\"]\n",
    "gifts2014[\"gifts last 10year\"][gifts2014[\"gifts last 10year\"]==1]=gifts2014[\"amount\"]\n",
    "gifts2014[\"gifts last 23year\"][gifts2014[\"gifts last 23year\"]==1]=gifts2014[\"amount\"]"
   ]
  },
  {
   "cell_type": "markdown",
   "metadata": {},
   "source": [
    "#### 4. Merging the databases: "
   ]
  },
  {
   "cell_type": "code",
   "execution_count": 22,
   "metadata": {},
   "outputs": [
    {
     "data": {
      "text/html": [
       "<div>\n",
       "<style scoped>\n",
       "    .dataframe tbody tr th:only-of-type {\n",
       "        vertical-align: middle;\n",
       "    }\n",
       "\n",
       "    .dataframe tbody tr th {\n",
       "        vertical-align: top;\n",
       "    }\n",
       "\n",
       "    .dataframe thead th {\n",
       "        text-align: right;\n",
       "    }\n",
       "</style>\n",
       "<table border=\"1\" class=\"dataframe\">\n",
       "  <thead>\n",
       "    <tr style=\"text-align: right;\">\n",
       "      <th></th>\n",
       "      <th>donorID</th>\n",
       "      <th>total_amount</th>\n",
       "      <th>nbr_donations</th>\n",
       "      <th>avg_amount year one</th>\n",
       "      <th>Sum gifts last year</th>\n",
       "      <th>avg_amount last 2year</th>\n",
       "      <th>sum gifts last 2year</th>\n",
       "      <th>avg_amount last 5year</th>\n",
       "      <th>sum gifts last 5year</th>\n",
       "      <th>avg_amount last 10year</th>\n",
       "      <th>sum gifts last 10year</th>\n",
       "      <th>avg_amount last 23year</th>\n",
       "      <th>sum gifts last 23year</th>\n",
       "      <th>last_donation</th>\n",
       "      <th>first_donation</th>\n",
       "      <th>max_gift</th>\n",
       "      <th>min_gift</th>\n",
       "    </tr>\n",
       "  </thead>\n",
       "  <tbody>\n",
       "    <tr>\n",
       "      <th>0</th>\n",
       "      <td>100001</td>\n",
       "      <td>178.49</td>\n",
       "      <td>12</td>\n",
       "      <td>0.00</td>\n",
       "      <td>0</td>\n",
       "      <td>0.00</td>\n",
       "      <td>0</td>\n",
       "      <td>0.0</td>\n",
       "      <td>0</td>\n",
       "      <td>0.0</td>\n",
       "      <td>5</td>\n",
       "      <td>9.874167</td>\n",
       "      <td>7</td>\n",
       "      <td>2006-12-18 00:00:00.000000</td>\n",
       "      <td>1998-10-23 00:00:00.000000</td>\n",
       "      <td>30.00</td>\n",
       "      <td>6.69</td>\n",
       "    </tr>\n",
       "    <tr>\n",
       "      <th>1</th>\n",
       "      <td>100002</td>\n",
       "      <td>20.00</td>\n",
       "      <td>1</td>\n",
       "      <td>0.00</td>\n",
       "      <td>0</td>\n",
       "      <td>0.00</td>\n",
       "      <td>0</td>\n",
       "      <td>20.0</td>\n",
       "      <td>1</td>\n",
       "      <td>0.0</td>\n",
       "      <td>0</td>\n",
       "      <td>0.000000</td>\n",
       "      <td>0</td>\n",
       "      <td>2010-04-09 00:00:00.000000</td>\n",
       "      <td>2010-04-09 00:00:00.000000</td>\n",
       "      <td>20.00</td>\n",
       "      <td>20.00</td>\n",
       "    </tr>\n",
       "    <tr>\n",
       "      <th>2</th>\n",
       "      <td>100003</td>\n",
       "      <td>18.00</td>\n",
       "      <td>5</td>\n",
       "      <td>2.00</td>\n",
       "      <td>3</td>\n",
       "      <td>1.60</td>\n",
       "      <td>2</td>\n",
       "      <td>0.0</td>\n",
       "      <td>0</td>\n",
       "      <td>0.0</td>\n",
       "      <td>0</td>\n",
       "      <td>0.000000</td>\n",
       "      <td>0</td>\n",
       "      <td>2013-01-18 00:00:00.000000</td>\n",
       "      <td>2011-08-02 00:00:00.000000</td>\n",
       "      <td>5.00</td>\n",
       "      <td>3.00</td>\n",
       "    </tr>\n",
       "    <tr>\n",
       "      <th>3</th>\n",
       "      <td>100004</td>\n",
       "      <td>716.22</td>\n",
       "      <td>26</td>\n",
       "      <td>0.00</td>\n",
       "      <td>0</td>\n",
       "      <td>0.00</td>\n",
       "      <td>0</td>\n",
       "      <td>0.0</td>\n",
       "      <td>0</td>\n",
       "      <td>0.0</td>\n",
       "      <td>6</td>\n",
       "      <td>20.623846</td>\n",
       "      <td>20</td>\n",
       "      <td>2005-12-19 00:00:00.000000</td>\n",
       "      <td>1995-05-18 00:00:00.000000</td>\n",
       "      <td>49.58</td>\n",
       "      <td>24.79</td>\n",
       "    </tr>\n",
       "    <tr>\n",
       "      <th>4</th>\n",
       "      <td>100005</td>\n",
       "      <td>14.96</td>\n",
       "      <td>4</td>\n",
       "      <td>1.25</td>\n",
       "      <td>1</td>\n",
       "      <td>1.25</td>\n",
       "      <td>1</td>\n",
       "      <td>0.0</td>\n",
       "      <td>0</td>\n",
       "      <td>0.0</td>\n",
       "      <td>0</td>\n",
       "      <td>1.240000</td>\n",
       "      <td>2</td>\n",
       "      <td>2012-12-19 00:00:00.000000</td>\n",
       "      <td>1997-11-14 00:00:00.000000</td>\n",
       "      <td>5.00</td>\n",
       "      <td>2.48</td>\n",
       "    </tr>\n",
       "  </tbody>\n",
       "</table>\n",
       "</div>"
      ],
      "text/plain": [
       "   donorID  total_amount  nbr_donations  avg_amount year one  \\\n",
       "0   100001        178.49             12                 0.00   \n",
       "1   100002         20.00              1                 0.00   \n",
       "2   100003         18.00              5                 2.00   \n",
       "3   100004        716.22             26                 0.00   \n",
       "4   100005         14.96              4                 1.25   \n",
       "\n",
       "   Sum gifts last year  avg_amount last 2year  sum gifts last 2year  \\\n",
       "0                    0                   0.00                     0   \n",
       "1                    0                   0.00                     0   \n",
       "2                    3                   1.60                     2   \n",
       "3                    0                   0.00                     0   \n",
       "4                    1                   1.25                     1   \n",
       "\n",
       "   avg_amount last 5year  sum gifts last 5year  avg_amount last 10year  \\\n",
       "0                    0.0                     0                     0.0   \n",
       "1                   20.0                     1                     0.0   \n",
       "2                    0.0                     0                     0.0   \n",
       "3                    0.0                     0                     0.0   \n",
       "4                    0.0                     0                     0.0   \n",
       "\n",
       "   sum gifts last 10year  avg_amount last 23year  sum gifts last 23year  \\\n",
       "0                      5                9.874167                      7   \n",
       "1                      0                0.000000                      0   \n",
       "2                      0                0.000000                      0   \n",
       "3                      6               20.623846                     20   \n",
       "4                      0                1.240000                      2   \n",
       "\n",
       "                last_donation              first_donation  max_gift  min_gift  \n",
       "0  2006-12-18 00:00:00.000000  1998-10-23 00:00:00.000000     30.00      6.69  \n",
       "1  2010-04-09 00:00:00.000000  2010-04-09 00:00:00.000000     20.00     20.00  \n",
       "2  2013-01-18 00:00:00.000000  2011-08-02 00:00:00.000000      5.00      3.00  \n",
       "3  2005-12-19 00:00:00.000000  1995-05-18 00:00:00.000000     49.58     24.79  \n",
       "4  2012-12-19 00:00:00.000000  1997-11-14 00:00:00.000000      5.00      2.48  "
      ]
     },
     "execution_count": 22,
     "metadata": {},
     "output_type": "execute_result"
    }
   ],
   "source": [
    "# Summarizing gift_data2013\n",
    "\n",
    "gifts_2013 = pysqldf(\"\"\"\n",
    "\n",
    "SELECT donorID, SUM(amount) AS total_amount, COUNT(date) AS nbr_donations, AVG(\"gifts last year\") AS \"avg_amount year one\",sum(\"gifts last year\">0) as \"Sum gifts last year\",AVG(\"gifts last 2year\") AS \"avg_amount last 2year\",\n",
    "SUM(\"gifts last 2year\">0) AS \"sum gifts last 2year\", AVG(\"gifts last 5year\") AS \"avg_amount last 5year\" ,SUM(\"gifts last 5year\">0) AS \"sum gifts last 5year\",(\"gifts last 10year\") AS \"avg_amount last 10year\", SUM(\"gifts last 10year\">0) AS \"sum gifts last 10year\",\n",
    "AVG(\"gifts last 23year\") AS \"avg_amount last 23year\",SUM(\"gifts last 23year\">0) AS \"sum gifts last 23year\",MAX(date) AS last_donation, MIN(date) AS first_donation,MAX(amount) AS max_gift,MIN(amount) AS min_gift\n",
    "FROM gifts2013\n",
    "GROUP BY donorID\n",
    "\n",
    "\"\"\")\n",
    "\n",
    "gifts_2013.head()"
   ]
  },
  {
   "cell_type": "code",
   "execution_count": 23,
   "metadata": {},
   "outputs": [
    {
     "data": {
      "text/html": [
       "<div>\n",
       "<style scoped>\n",
       "    .dataframe tbody tr th:only-of-type {\n",
       "        vertical-align: middle;\n",
       "    }\n",
       "\n",
       "    .dataframe tbody tr th {\n",
       "        vertical-align: top;\n",
       "    }\n",
       "\n",
       "    .dataframe thead th {\n",
       "        text-align: right;\n",
       "    }\n",
       "</style>\n",
       "<table border=\"1\" class=\"dataframe\">\n",
       "  <thead>\n",
       "    <tr style=\"text-align: right;\">\n",
       "      <th></th>\n",
       "      <th>donorID</th>\n",
       "      <th>total_amount</th>\n",
       "      <th>nbr_donations</th>\n",
       "      <th>avg_amount year one</th>\n",
       "      <th>Sum gifts last year</th>\n",
       "      <th>avg_amount last 2year</th>\n",
       "      <th>sum gifts last 2year</th>\n",
       "      <th>avg_amount last 5year</th>\n",
       "      <th>sum gifts last 5year</th>\n",
       "      <th>avg_amount last 10year</th>\n",
       "      <th>sum gifts last 10year</th>\n",
       "      <th>avg_amount last 23year</th>\n",
       "      <th>sum gifts last 23year</th>\n",
       "      <th>last_donation</th>\n",
       "      <th>first_donation</th>\n",
       "      <th>max_gift</th>\n",
       "      <th>min_gift</th>\n",
       "    </tr>\n",
       "  </thead>\n",
       "  <tbody>\n",
       "    <tr>\n",
       "      <th>0</th>\n",
       "      <td>100001</td>\n",
       "      <td>178.49</td>\n",
       "      <td>12</td>\n",
       "      <td>0.000000</td>\n",
       "      <td>0</td>\n",
       "      <td>0.000000</td>\n",
       "      <td>0</td>\n",
       "      <td>0.000000</td>\n",
       "      <td>0</td>\n",
       "      <td>0.0</td>\n",
       "      <td>4</td>\n",
       "      <td>11.540833</td>\n",
       "      <td>8</td>\n",
       "      <td>2006-12-18 00:00:00.000000</td>\n",
       "      <td>1998-10-23 00:00:00.000000</td>\n",
       "      <td>30.00</td>\n",
       "      <td>6.69</td>\n",
       "    </tr>\n",
       "    <tr>\n",
       "      <th>1</th>\n",
       "      <td>100002</td>\n",
       "      <td>20.00</td>\n",
       "      <td>1</td>\n",
       "      <td>0.000000</td>\n",
       "      <td>0</td>\n",
       "      <td>0.000000</td>\n",
       "      <td>0</td>\n",
       "      <td>20.000000</td>\n",
       "      <td>1</td>\n",
       "      <td>0.0</td>\n",
       "      <td>0</td>\n",
       "      <td>0.000000</td>\n",
       "      <td>0</td>\n",
       "      <td>2010-04-09 00:00:00.000000</td>\n",
       "      <td>2010-04-09 00:00:00.000000</td>\n",
       "      <td>20.00</td>\n",
       "      <td>20.00</td>\n",
       "    </tr>\n",
       "    <tr>\n",
       "      <th>2</th>\n",
       "      <td>100003</td>\n",
       "      <td>42.00</td>\n",
       "      <td>11</td>\n",
       "      <td>2.454545</td>\n",
       "      <td>7</td>\n",
       "      <td>0.636364</td>\n",
       "      <td>2</td>\n",
       "      <td>0.727273</td>\n",
       "      <td>2</td>\n",
       "      <td>0.0</td>\n",
       "      <td>0</td>\n",
       "      <td>0.000000</td>\n",
       "      <td>0</td>\n",
       "      <td>2013-12-19 00:00:00.000000</td>\n",
       "      <td>2011-08-02 00:00:00.000000</td>\n",
       "      <td>5.00</td>\n",
       "      <td>3.00</td>\n",
       "    </tr>\n",
       "    <tr>\n",
       "      <th>3</th>\n",
       "      <td>100004</td>\n",
       "      <td>716.22</td>\n",
       "      <td>26</td>\n",
       "      <td>0.000000</td>\n",
       "      <td>0</td>\n",
       "      <td>0.000000</td>\n",
       "      <td>0</td>\n",
       "      <td>0.000000</td>\n",
       "      <td>0</td>\n",
       "      <td>0.0</td>\n",
       "      <td>4</td>\n",
       "      <td>21.024615</td>\n",
       "      <td>20</td>\n",
       "      <td>2005-12-19 00:00:00.000000</td>\n",
       "      <td>1995-05-18 00:00:00.000000</td>\n",
       "      <td>49.58</td>\n",
       "      <td>24.79</td>\n",
       "    </tr>\n",
       "    <tr>\n",
       "      <th>4</th>\n",
       "      <td>100005</td>\n",
       "      <td>24.96</td>\n",
       "      <td>5</td>\n",
       "      <td>2.000000</td>\n",
       "      <td>1</td>\n",
       "      <td>1.000000</td>\n",
       "      <td>1</td>\n",
       "      <td>1.000000</td>\n",
       "      <td>1</td>\n",
       "      <td>0.0</td>\n",
       "      <td>0</td>\n",
       "      <td>0.992000</td>\n",
       "      <td>2</td>\n",
       "      <td>2013-10-24 00:00:00.000000</td>\n",
       "      <td>1997-11-14 00:00:00.000000</td>\n",
       "      <td>10.00</td>\n",
       "      <td>2.48</td>\n",
       "    </tr>\n",
       "  </tbody>\n",
       "</table>\n",
       "</div>"
      ],
      "text/plain": [
       "   donorID  total_amount  nbr_donations  avg_amount year one  \\\n",
       "0   100001        178.49             12             0.000000   \n",
       "1   100002         20.00              1             0.000000   \n",
       "2   100003         42.00             11             2.454545   \n",
       "3   100004        716.22             26             0.000000   \n",
       "4   100005         24.96              5             2.000000   \n",
       "\n",
       "   Sum gifts last year  avg_amount last 2year  sum gifts last 2year  \\\n",
       "0                    0               0.000000                     0   \n",
       "1                    0               0.000000                     0   \n",
       "2                    7               0.636364                     2   \n",
       "3                    0               0.000000                     0   \n",
       "4                    1               1.000000                     1   \n",
       "\n",
       "   avg_amount last 5year  sum gifts last 5year  avg_amount last 10year  \\\n",
       "0               0.000000                     0                     0.0   \n",
       "1              20.000000                     1                     0.0   \n",
       "2               0.727273                     2                     0.0   \n",
       "3               0.000000                     0                     0.0   \n",
       "4               1.000000                     1                     0.0   \n",
       "\n",
       "   sum gifts last 10year  avg_amount last 23year  sum gifts last 23year  \\\n",
       "0                      4               11.540833                      8   \n",
       "1                      0                0.000000                      0   \n",
       "2                      0                0.000000                      0   \n",
       "3                      4               21.024615                     20   \n",
       "4                      0                0.992000                      2   \n",
       "\n",
       "                last_donation              first_donation  max_gift  min_gift  \n",
       "0  2006-12-18 00:00:00.000000  1998-10-23 00:00:00.000000     30.00      6.69  \n",
       "1  2010-04-09 00:00:00.000000  2010-04-09 00:00:00.000000     20.00     20.00  \n",
       "2  2013-12-19 00:00:00.000000  2011-08-02 00:00:00.000000      5.00      3.00  \n",
       "3  2005-12-19 00:00:00.000000  1995-05-18 00:00:00.000000     49.58     24.79  \n",
       "4  2013-10-24 00:00:00.000000  1997-11-14 00:00:00.000000     10.00      2.48  "
      ]
     },
     "execution_count": 23,
     "metadata": {},
     "output_type": "execute_result"
    }
   ],
   "source": [
    "# Summarizing gift_data2014\n",
    "\n",
    "gifts_2014 = pysqldf(\"\"\"\n",
    "\n",
    "SELECT donorID, SUM(amount) AS total_amount, COUNT(date) AS nbr_donations, AVG(\"gifts last year\") AS \"avg_amount year one\",sum(\"gifts last year\">0) as \"Sum gifts last year\",AVG(\"gifts last 2year\") AS \"avg_amount last 2year\",\n",
    "SUM(\"gifts last 2year\">0) AS \"sum gifts last 2year\", AVG(\"gifts last 5year\") AS \"avg_amount last 5year\" ,SUM(\"gifts last 5year\">0) AS \"sum gifts last 5year\",(\"gifts last 10year\") AS \"avg_amount last 10year\", SUM(\"gifts last 10year\">0) AS \"sum gifts last 10year\",\n",
    "AVG(\"gifts last 23year\") AS \"avg_amount last 23year\",SUM(\"gifts last 23year\">0) AS \"sum gifts last 23year\",\n",
    "MAX(date) AS last_donation, MIN(date) AS first_donation,MAX(amount) AS max_gift,MIN(amount) AS min_gift\n",
    "FROM gifts2014\n",
    "GROUP BY donorID\n",
    "\n",
    "\"\"\")\n",
    "\n",
    "gifts_2014.head()"
   ]
  },
  {
   "cell_type": "code",
   "execution_count": 24,
   "metadata": {},
   "outputs": [],
   "source": [
    "# Cleaning data 2013\n",
    "\n",
    "gifts_2013[\"avg_amount last 10year\"]=gifts_2013[\"avg_amount last 10year\"].astype(float)\n",
    "gifts_2013[\"avg_amount year one\"]=round(gifts_2013[\"avg_amount year one\"],2)\n",
    "gifts_2013[\"avg_amount last 2year\"]=round(gifts_2013[\"avg_amount last 2year\"],2)\n",
    "gifts_2013[\"avg_amount last 5year\"]=round(gifts_2013[\"avg_amount last 5year\"],2)\n",
    "gifts_2013[\"avg_amount last 10year\"]=round(gifts_2013[\"avg_amount last 10year\"],2)\n",
    "gifts_2013[\"avg_amount last 23year\"]=round(gifts_2013[\"avg_amount last 23year\"],2)\n",
    "gifts_2013['last_donation']=pd.to_datetime(gifts_2013['last_donation'], format='%Y/%m/%d')\n",
    "gifts_2013['first_donation']=pd.to_datetime(gifts_2013['first_donation'], format='%Y/%m/%d')"
   ]
  },
  {
   "cell_type": "code",
   "execution_count": 25,
   "metadata": {},
   "outputs": [],
   "source": [
    "# Cleaning data 2014\n",
    "\n",
    "gifts_2014[\"avg_amount last 10year\"]=gifts_2014[\"avg_amount last 10year\"].astype(float)\n",
    "gifts_2014[\"avg_amount year one\"]=round(gifts_2014[\"avg_amount year one\"],2)\n",
    "gifts_2014[\"avg_amount last 2year\"]=round(gifts_2014[\"avg_amount last 2year\"],2)\n",
    "gifts_2014[\"avg_amount last 5year\"]=round(gifts_2014[\"avg_amount last 5year\"],2)\n",
    "gifts_2014[\"avg_amount last 10year\"]=round(gifts_2014[\"avg_amount last 10year\"],2)\n",
    "gifts_2014[\"avg_amount last 23year\"]=round(gifts_2014[\"avg_amount last 23year\"],2)\n",
    "gifts_2014['last_donation']=pd.to_datetime(gifts_2014['last_donation'], format='%Y/%m/%d')\n",
    "gifts_2014['first_donation']=pd.to_datetime(gifts_2014['first_donation'], format='%Y/%m/%d')"
   ]
  },
  {
   "cell_type": "code",
   "execution_count": 26,
   "metadata": {},
   "outputs": [],
   "source": [
    "# Joining gift 2013 and donors table\n",
    "\n",
    "donors_table2013 = pysqldf(\"\"\"\n",
    "\n",
    "SELECT *\n",
    "FROM  donors_data AS dd\n",
    "LEFT JOIN gifts_2013 AS gd\n",
    "ON gd.donorID = dd.donorID\n",
    "\n",
    "\"\"\")\n"
   ]
  },
  {
   "cell_type": "code",
   "execution_count": 27,
   "metadata": {},
   "outputs": [],
   "source": [
    "donors_table2013.columns=['donorID', 'language', 'Couple', 'Female', 'Male', 'Solo', 'Unknown',\n",
    "       'S_Brussels', 'S_Flanders', 'S_Missing', 'S_Wallonia', 'Antwerp',\n",
    "       'Brussels', 'Flemish Brabant', 'Hainaut', 'Liege', 'Limburg', 'Missing',\n",
    "       'Namur', 'Walloon Brabant', 'donorID2', 'total_amount', 'nbr_donations',\n",
    "       'avg_amount year one', 'Sum gifts last year', 'avg_amount last 2year',\n",
    "       'sum gifts last 2year', 'avg_amount last 5year', 'sum gifts last 5year',\n",
    "       'avg_amount last 10year', 'sum gifts last 10year',\n",
    "       'avg_amount last 23year', 'sum gifts last 23year', 'last_donation',\n",
    "       'first_donation', 'max_gift', 'min_gift']\n",
    "\n",
    "donors_table2013=donors_table2013.drop(['donorID2'], axis=1)"
   ]
  },
  {
   "cell_type": "code",
   "execution_count": 28,
   "metadata": {},
   "outputs": [],
   "source": [
    "# Replacing missing values 2013\n",
    "\n",
    "donors_table2013.loc[donors_table2013.nbr_donations.isna(),'nbr_donations']=0\n",
    "donors_table2013.loc[donors_table2013.first_donation.isna(),'first_donation']=0\n",
    "donors_table2013.loc[donors_table2013.total_amount.isna(),'total_amount']=0\n",
    "donors_table2013.loc[donors_table2013.max_gift.isna(),'max_gift']=0\n",
    "donors_table2013.loc[donors_table2013.min_gift.isna(),'min_gift']=0\n",
    "donors_table2013.loc[donors_table2013['avg_amount year one'].isna(),'avg_amount year one']=0\n",
    "donors_table2013.loc[donors_table2013['avg_amount last 2year'].isna(),'avg_amount last 2year']=0\n",
    "donors_table2013.loc[donors_table2013['avg_amount last 5year'].isna(),'avg_amount last 5year']=0\n",
    "donors_table2013.loc[donors_table2013['avg_amount last 10year'].isna(),'avg_amount last 10year']=0\n",
    "donors_table2013.loc[donors_table2013['avg_amount last 23year'].isna(),'avg_amount last 23year']=0\n",
    "\n",
    "donors_table2013.loc[donors_table2013['Sum gifts last year'].isna(),'Sum gifts last year']=0\n",
    "donors_table2013.loc[donors_table2013['sum gifts last 2year'].isna(),'sum gifts last 2year']=0\n",
    "donors_table2013.loc[donors_table2013['sum gifts last 5year'].isna(),'sum gifts last 5year']=0\n",
    "donors_table2013.loc[donors_table2013['sum gifts last 10year'].isna(),'sum gifts last 10year']=0\n",
    "donors_table2013.loc[donors_table2013['sum gifts last 23year'].isna(),'sum gifts last 23year']=0"
   ]
  },
  {
   "cell_type": "code",
   "execution_count": 29,
   "metadata": {},
   "outputs": [],
   "source": [
    "# Joining gift 2014 and donors table\n",
    "\n",
    "donors_table2014 = pysqldf(\"\"\"\n",
    "\n",
    "SELECT *\n",
    "FROM  donors_data AS dd\n",
    "LEFT JOIN gifts_2014 AS gd\n",
    "ON gd.donorID = dd.donorID\n",
    "\n",
    "\"\"\")\n"
   ]
  },
  {
   "cell_type": "code",
   "execution_count": 30,
   "metadata": {},
   "outputs": [],
   "source": [
    "donors_table2014.columns=['donorID', 'language', 'Couple', 'Female', 'Male', 'Solo', 'Unknown',\n",
    "       'S_Brussels', 'S_Flanders', 'S_Missing', 'S_Wallonia', 'Antwerp',\n",
    "       'Brussels', 'Flemish Brabant', 'Hainaut', 'Liege', 'Limburg', 'Missing',\n",
    "       'Namur', 'Walloon Brabant', 'donorID2', 'total_amount', 'nbr_donations',\n",
    "       'avg_amount year one', 'Sum gifts last year', 'avg_amount last 2year',\n",
    "       'sum gifts last 2year', 'avg_amount last 5year', 'sum gifts last 5year',\n",
    "       'avg_amount last 10year', 'sum gifts last 10year',\n",
    "       'avg_amount last 23year', 'sum gifts last 23year', 'last_donation',\n",
    "       'first_donation', 'max_gift', 'min_gift']\n",
    "donors_table2014=donors_table2014.drop(['donorID2'], axis=1)"
   ]
  },
  {
   "cell_type": "code",
   "execution_count": 31,
   "metadata": {},
   "outputs": [],
   "source": [
    "# Replacing missing values 2014\n",
    "\n",
    "donors_table2014.loc[donors_table2014.nbr_donations.isna(),'nbr_donations']=0\n",
    "donors_table2014.loc[donors_table2014.first_donation.isna(),'first_donation']=0\n",
    "donors_table2014.loc[donors_table2014.total_amount.isna(),'total_amount']=0\n",
    "donors_table2014.loc[donors_table2014.max_gift.isna(),'max_gift']=0\n",
    "donors_table2014.loc[donors_table2014.min_gift.isna(),'min_gift']=0\n",
    "donors_table2014.loc[donors_table2014['avg_amount year one'].isna(),'avg_amount year one']=0\n",
    "donors_table2014.loc[donors_table2014['avg_amount last 2year'].isna(),'avg_amount last 2year']=0\n",
    "donors_table2014.loc[donors_table2014['avg_amount last 5year'].isna(),'avg_amount last 5year']=0\n",
    "donors_table2014.loc[donors_table2014['avg_amount last 10year'].isna(),'avg_amount last 10year']=0\n",
    "donors_table2014.loc[donors_table2014['avg_amount last 23year'].isna(),'avg_amount last 23year']=0\n",
    "\n",
    "donors_table2014.loc[donors_table2014['Sum gifts last year'].isna(),'Sum gifts last year']=0\n",
    "donors_table2014.loc[donors_table2014['sum gifts last 2year'].isna(),'sum gifts last 2year']=0\n",
    "donors_table2014.loc[donors_table2014['sum gifts last 5year'].isna(),'sum gifts last 5year']=0\n",
    "donors_table2014.loc[donors_table2014['sum gifts last 10year'].isna(),'sum gifts last 10year']=0\n",
    "donors_table2014.loc[donors_table2014['sum gifts last 23year'].isna(),'sum gifts last 23year']=0"
   ]
  },
  {
   "cell_type": "markdown",
   "metadata": {},
   "source": [
    "#### 5. Defining training and testing sets:"
   ]
  },
  {
   "cell_type": "code",
   "execution_count": 32,
   "metadata": {},
   "outputs": [],
   "source": [
    "# Adding target in campaign13_data\n",
    "\n",
    "campaign13_data['target']=1\n",
    "campaign13_data.loc[campaign13_data.amount>35,'target']=1\n",
    "campaign13_data.loc[campaign13_data.amount<=35,'target']=0"
   ]
  },
  {
   "cell_type": "code",
   "execution_count": 33,
   "metadata": {},
   "outputs": [],
   "source": [
    "# Adding target in campaign14_data\n",
    "\n",
    "campaign14_data['target']=1\n",
    "campaign14_data.loc[campaign14_data.amount>35,'target']=1\n",
    "campaign14_data.loc[campaign14_data.amount<=35,'target']=0"
   ]
  },
  {
   "cell_type": "code",
   "execution_count": 34,
   "metadata": {},
   "outputs": [],
   "source": [
    "# Creating training data set by joining donors_table2013 (info donors and gifts before 2013/03) and campaign 2013 data\n",
    "\n",
    "training_set = pysqldf(\"\"\"\n",
    "\n",
    "SELECT *\n",
    "FROM  campaign13_data AS t1\n",
    "LEFT JOIN donors_table2013 AS t2\n",
    "ON t1.donorID = t2.donorID\n",
    "\n",
    "\n",
    "\"\"\")\n"
   ]
  },
  {
   "cell_type": "code",
   "execution_count": 35,
   "metadata": {},
   "outputs": [],
   "source": [
    "#Dropping second column donorID\n",
    "\n",
    "training_set.columns=['donorID', 'amount', 'target', 'donorID2', 'language', 'Couple',\n",
    "       'Female', 'Male', 'Solo', 'Unknown', 'S_Brussels', 'S_Flanders',\n",
    "       'S_Missing', 'S_Wallonia', 'Antwerp', 'Brussels', 'Flemish Brabant',\n",
    "       'Hainaut', 'Liege', 'Limburg', 'Missing', 'Namur', 'Walloon Brabant',\n",
    "       'total_amount', 'nbr_donations', 'avg_amount year one',\n",
    "       'Sum gifts last year', 'avg_amount last 2year', 'sum gifts last 2year',\n",
    "       'avg_amount last 5year', 'sum gifts last 5year',\n",
    "       'avg_amount last 10year', 'sum gifts last 10year',\n",
    "       'avg_amount last 23year', 'sum gifts last 23year', 'last_donation',\n",
    "       'first_donation', 'max_gift', 'min_gift']\n",
    "training_set=training_set.drop(['donorID2'], axis=1)"
   ]
  },
  {
   "cell_type": "code",
   "execution_count": 36,
   "metadata": {},
   "outputs": [],
   "source": [
    "# Creating training data set by joining donors_table2014 (info donors and gifts before 2014/01) and campaign 2014 data\n",
    "\n",
    "test_set = pysqldf(\"\"\"\n",
    "\n",
    "SELECT *\n",
    "FROM  campaign14_data AS t1\n",
    "LEFT JOIN donors_table2014 AS t2\n",
    "ON t1.donorID = t2.donorID\n",
    "\n",
    "\n",
    "\"\"\")\n"
   ]
  },
  {
   "cell_type": "code",
   "execution_count": 37,
   "metadata": {},
   "outputs": [],
   "source": [
    "# Dropping second column donorID\n",
    "\n",
    "test_set.columns=['donorID', 'amount', 'target', 'donorID2', 'language', 'Couple',\n",
    "       'Female', 'Male', 'Solo', 'Unknown', 'S_Brussels', 'S_Flanders',\n",
    "       'S_Missing', 'S_Wallonia', 'Antwerp', 'Brussels', 'Flemish Brabant',\n",
    "       'Hainaut', 'Liege', 'Limburg', 'Missing', 'Namur', 'Walloon Brabant',\n",
    "       'total_amount', 'nbr_donations', 'avg_amount year one',\n",
    "       'Sum gifts last year', 'avg_amount last 2year', 'sum gifts last 2year',\n",
    "       'avg_amount last 5year', 'sum gifts last 5year',\n",
    "       'avg_amount last 10year', 'sum gifts last 10year',\n",
    "       'avg_amount last 23year', 'sum gifts last 23year', 'last_donation',\n",
    "       'first_donation', 'max_gift', 'min_gift']\n",
    "test_set=test_set.drop(['donorID2'], axis=1)"
   ]
  },
  {
   "cell_type": "code",
   "execution_count": 38,
   "metadata": {},
   "outputs": [],
   "source": [
    "# Adding recency column in training and test set\n",
    "\n",
    "training_set[\"last_donation\"] = pd.to_datetime(training_set[\"last_donation\"], format='%Y-%m-%d')\n",
    "training_set[\"day\"]=pd.to_datetime(\"2013-03-27\")\n",
    "training_set[\"recency\"]=(training_set[\"day\"]-training_set[\"last_donation\"])\n",
    "\n",
    "test_set[\"last_donation\"] = pd.to_datetime(test_set[\"last_donation\"], format='%Y-%m-%d')\n",
    "test_set[\"day\"]=pd.to_datetime(\"2014-01-01\")\n",
    "test_set[\"recency\"]=(test_set[\"day\"]-test_set[\"last_donation\"])"
   ]
  },
  {
   "cell_type": "code",
   "execution_count": 39,
   "metadata": {},
   "outputs": [],
   "source": [
    "# Recency as float\n",
    "\n",
    "training_set[\"days_recency\"]=training_set[\"recency\"].dt.days\n",
    "test_set[\"days_recency\"]=test_set[\"recency\"].dt.days"
   ]
  },
  {
   "cell_type": "code",
   "execution_count": 40,
   "metadata": {},
   "outputs": [],
   "source": [
    "# Replacing missing values in days_recency\n",
    "\n",
    "mean_recency_training=np.mean(training_set.days_recency)\n",
    "mean_recency_test=np.mean(test_set.days_recency)\n",
    "\n",
    "training_set.loc[training_set.days_recency.isna(),'days_recency']=mean_recency_training\n",
    "test_set.loc[test_set.days_recency.isna(),'days_recency']=mean_recency_test  "
   ]
  },
  {
   "cell_type": "code",
   "execution_count": 41,
   "metadata": {},
   "outputs": [],
   "source": [
    "#getting the index from from the clients that have gifted last year \n",
    "indexNames = test_set[test_set[\"avg_amount year one\"] != 0].index\n",
    "\n",
    "\n",
    "indexNamesTrain= training_set[training_set[\"avg_amount year one\"] != 0].index\n"
   ]
  },
  {
   "cell_type": "code",
   "execution_count": 42,
   "metadata": {},
   "outputs": [],
   "source": [
    "\n",
    "#drop the donners that has gifted last year we only have now unactive doners\n",
    "test_set.drop(indexNames, inplace=True)\n",
    "training_set.drop(indexNamesTrain, inplace = True)\n"
   ]
  },
  {
   "cell_type": "code",
   "execution_count": 43,
   "metadata": {},
   "outputs": [],
   "source": [
    "# Dropping dummies Unknown, S_Missing (avoid multicollinearity), last date and recency, we will use only days_recency\n",
    "\n",
    "training_set=training_set.drop(['Unknown','S_Missing','last_donation','recency','day','first_donation'], axis=1)\n",
    "test_set=test_set.drop(['Unknown','S_Missing','last_donation','recency','day','first_donation'], axis=1)"
   ]
  },
  {
   "cell_type": "markdown",
   "metadata": {},
   "source": [
    "#### 6. Standarization:"
   ]
  },
  {
   "cell_type": "code",
   "execution_count": 44,
   "metadata": {},
   "outputs": [],
   "source": [
    "# Selecting the features to standardizer\n",
    "\n",
    "training_set_scaled=training_set[['total_amount', 'nbr_donations', 'avg_amount year one', 'Sum gifts last year', \n",
    "                                  'avg_amount last 2year', 'sum gifts last 2year', 'avg_amount last 5year', \n",
    "                                  'sum gifts last 5year', 'avg_amount last 10year', 'sum gifts last 10year', \n",
    "                                  'avg_amount last 23year', 'sum gifts last 23year', 'max_gift', 'min_gift', 'days_recency']]\n",
    "\n",
    "test_set_scaled=test_set[['total_amount', 'nbr_donations', 'avg_amount year one', 'Sum gifts last year', \n",
    "                                  'avg_amount last 2year', 'sum gifts last 2year', 'avg_amount last 5year', \n",
    "                                  'sum gifts last 5year', 'avg_amount last 10year', 'sum gifts last 10year', \n",
    "                                  'avg_amount last 23year', 'sum gifts last 23year', 'max_gift', 'min_gift', 'days_recency']]"
   ]
  },
  {
   "cell_type": "code",
   "execution_count": 45,
   "metadata": {},
   "outputs": [],
   "source": [
    "# Defining scalar\n",
    "\n",
    "scaler = StandardScaler()"
   ]
  },
  {
   "cell_type": "code",
   "execution_count": 46,
   "metadata": {},
   "outputs": [],
   "source": [
    "# Standardizing and ordering columns\n",
    "\n",
    "training_set_scaled = pd.DataFrame(scaler.fit_transform(training_set_scaled))\n",
    "training_set_dummies=training_set[['language','Couple','Female', 'Male', 'Solo','S_Brussels', 'S_Flanders','S_Wallonia']]\n",
    "training_setID=training_set[['donorID','target']]\n",
    "\n",
    "\n",
    "test_set_scaled = pd.DataFrame(scaler.fit_transform(test_set_scaled))\n",
    "test_set_dummies=test_set[['language', 'Couple', 'Female', 'Male', 'Solo', 'S_Brussels', 'S_Flanders', 'S_Wallonia']]\n",
    "test_setID=test_set[['donorID','target']]\n",
    "\n",
    "\n",
    "final_training_set=pd.DataFrame(np.concatenate([training_setID,training_set_dummies,training_set_scaled], axis = 1))\n",
    "final_training_set.columns=['donorID','target','language','Couple','Female', 'Male', 'Solo','S_Brussels', 'S_Flanders',\n",
    "                            'S_Wallonia','total_amount', 'nbr_donations', 'avg_amount year one', 'Sum gifts last year', \n",
    "                                  'avg_amount last 2year', 'sum gifts last 2year', 'avg_amount last 5year', \n",
    "                                  'sum gifts last 5year', 'avg_amount last 10year', 'sum gifts last 10year', \n",
    "                                  'avg_amount last 23year', 'sum gifts last 23year', 'max_gift', 'min_gift', 'days_recency']\n",
    "\n",
    "final_test_set=pd.DataFrame(np.concatenate([test_setID,test_set_dummies,test_set_scaled], axis = 1))\n",
    "final_test_set.columns=['donorID','target','language','Couple','Female', 'Male', 'Solo','S_Brussels', 'S_Flanders',\n",
    "                            'S_Wallonia','total_amount', 'nbr_donations', 'avg_amount year one', 'Sum gifts last year', \n",
    "                                  'avg_amount last 2year', 'sum gifts last 2year', 'avg_amount last 5year', \n",
    "                                  'sum gifts last 5year', 'avg_amount last 10year', 'sum gifts last 10year', \n",
    "                                  'avg_amount last 23year', 'sum gifts last 23year', 'max_gift', 'min_gift', 'days_recency']"
   ]
  },
  {
   "cell_type": "code",
   "execution_count": 47,
   "metadata": {},
   "outputs": [],
   "source": [
    "final_test_set=pd.DataFrame(final_test_set)"
   ]
  },
  {
   "cell_type": "code",
   "execution_count": 48,
   "metadata": {},
   "outputs": [],
   "source": [
    "# Changing column types\n",
    "\n",
    "# training set\n",
    "final_training_set[\"target\"]=final_training_set[\"target\"].astype(int)\n",
    "final_training_set[['language','Couple','Female', 'Male', 'Solo','S_Brussels', 'S_Flanders',\n",
    "                    'S_Wallonia']]= final_training_set[['language','Couple','Female', 'Male', 'Solo',\n",
    "                    'S_Brussels', 'S_Flanders','S_Wallonia']].astype(int)\n",
    "final_training_set[['total_amount', 'nbr_donations', 'avg_amount year one', 'Sum gifts last year', \n",
    "                                  'avg_amount last 2year', 'sum gifts last 2year', 'avg_amount last 5year', \n",
    "                                  'sum gifts last 5year', 'avg_amount last 10year', 'sum gifts last 10year', \n",
    "                                  'avg_amount last 23year', 'sum gifts last 23year', 'max_gift', 'min_gift', \n",
    "                    'days_recency']]=final_training_set[['total_amount', 'nbr_donations', 'avg_amount year one', \n",
    "                    'Sum gifts last year', 'avg_amount last 2year', 'sum gifts last 2year', 'avg_amount last 5year', \n",
    "                                  'sum gifts last 5year', 'avg_amount last 10year', 'sum gifts last 10year', \n",
    "                                  'avg_amount last 23year', 'sum gifts last 23year', 'max_gift', 'min_gift',\n",
    "                                                         'days_recency']].astype(float)\n",
    "\n",
    "# test set\n",
    "final_test_set[\"target\"]=final_test_set[\"target\"].astype(int)\n",
    "final_test_set[['language','Couple','Female', 'Male', 'Solo','S_Brussels', 'S_Flanders',\n",
    "                'S_Wallonia']]=final_test_set[['language','Couple','Female', 'Male', 'Solo','S_Brussels', \n",
    "                'S_Flanders','S_Wallonia']].astype(int)\n",
    "final_test_set[['total_amount', 'nbr_donations', 'avg_amount year one', 'Sum gifts last year', \n",
    "                                  'avg_amount last 2year', 'sum gifts last 2year', 'avg_amount last 5year', \n",
    "                                  'sum gifts last 5year', 'avg_amount last 10year', 'sum gifts last 10year', \n",
    "                                  'avg_amount last 23year', 'sum gifts last 23year', 'max_gift', 'min_gift', \n",
    "                    'days_recency']]=final_test_set[['total_amount', 'nbr_donations', 'avg_amount year one', \n",
    "                    'Sum gifts last year', 'avg_amount last 2year', 'sum gifts last 2year', 'avg_amount last 5year', \n",
    "                                  'sum gifts last 5year', 'avg_amount last 10year', 'sum gifts last 10year', \n",
    "                                  'avg_amount last 23year', 'sum gifts last 23year', 'max_gift', 'min_gift',\n",
    "                                                         'days_recency']].astype(float)"
   ]
  },
  {
   "cell_type": "code",
   "execution_count": 49,
   "metadata": {},
   "outputs": [
    {
     "data": {
      "text/html": [
       "<div>\n",
       "<style scoped>\n",
       "    .dataframe tbody tr th:only-of-type {\n",
       "        vertical-align: middle;\n",
       "    }\n",
       "\n",
       "    .dataframe tbody tr th {\n",
       "        vertical-align: top;\n",
       "    }\n",
       "\n",
       "    .dataframe thead th {\n",
       "        text-align: right;\n",
       "    }\n",
       "</style>\n",
       "<table border=\"1\" class=\"dataframe\">\n",
       "  <thead>\n",
       "    <tr style=\"text-align: right;\">\n",
       "      <th></th>\n",
       "      <th>donorID</th>\n",
       "      <th>target</th>\n",
       "      <th>language</th>\n",
       "      <th>Couple</th>\n",
       "      <th>Female</th>\n",
       "      <th>Male</th>\n",
       "      <th>Solo</th>\n",
       "      <th>S_Brussels</th>\n",
       "      <th>S_Flanders</th>\n",
       "      <th>S_Wallonia</th>\n",
       "      <th>...</th>\n",
       "      <th>sum gifts last 2year</th>\n",
       "      <th>avg_amount last 5year</th>\n",
       "      <th>sum gifts last 5year</th>\n",
       "      <th>avg_amount last 10year</th>\n",
       "      <th>sum gifts last 10year</th>\n",
       "      <th>avg_amount last 23year</th>\n",
       "      <th>sum gifts last 23year</th>\n",
       "      <th>max_gift</th>\n",
       "      <th>min_gift</th>\n",
       "      <th>days_recency</th>\n",
       "    </tr>\n",
       "  </thead>\n",
       "  <tbody>\n",
       "    <tr>\n",
       "      <th>0</th>\n",
       "      <td>100001</td>\n",
       "      <td>0</td>\n",
       "      <td>0</td>\n",
       "      <td>0</td>\n",
       "      <td>0</td>\n",
       "      <td>1</td>\n",
       "      <td>0</td>\n",
       "      <td>0</td>\n",
       "      <td>1</td>\n",
       "      <td>0</td>\n",
       "      <td>...</td>\n",
       "      <td>-0.040427</td>\n",
       "      <td>-0.427934</td>\n",
       "      <td>-0.461660</td>\n",
       "      <td>-0.316368</td>\n",
       "      <td>1.020844</td>\n",
       "      <td>-0.011366</td>\n",
       "      <td>1.347833</td>\n",
       "      <td>-0.041709</td>\n",
       "      <td>-0.230946</td>\n",
       "      <td>-0.259790</td>\n",
       "    </tr>\n",
       "    <tr>\n",
       "      <th>1</th>\n",
       "      <td>100002</td>\n",
       "      <td>0</td>\n",
       "      <td>1</td>\n",
       "      <td>0</td>\n",
       "      <td>0</td>\n",
       "      <td>1</td>\n",
       "      <td>0</td>\n",
       "      <td>0</td>\n",
       "      <td>1</td>\n",
       "      <td>0</td>\n",
       "      <td>...</td>\n",
       "      <td>-0.040427</td>\n",
       "      <td>0.727760</td>\n",
       "      <td>0.144273</td>\n",
       "      <td>-0.316368</td>\n",
       "      <td>-0.445407</td>\n",
       "      <td>-0.150817</td>\n",
       "      <td>-0.460925</td>\n",
       "      <td>-0.152369</td>\n",
       "      <td>-0.048085</td>\n",
       "      <td>-1.031637</td>\n",
       "    </tr>\n",
       "    <tr>\n",
       "      <th>2</th>\n",
       "      <td>100004</td>\n",
       "      <td>0</td>\n",
       "      <td>0</td>\n",
       "      <td>0</td>\n",
       "      <td>0</td>\n",
       "      <td>1</td>\n",
       "      <td>0</td>\n",
       "      <td>1</td>\n",
       "      <td>0</td>\n",
       "      <td>0</td>\n",
       "      <td>...</td>\n",
       "      <td>-0.040427</td>\n",
       "      <td>-0.427934</td>\n",
       "      <td>-0.461660</td>\n",
       "      <td>-0.316368</td>\n",
       "      <td>1.314095</td>\n",
       "      <td>0.140520</td>\n",
       "      <td>4.706954</td>\n",
       "      <td>0.174962</td>\n",
       "      <td>0.017723</td>\n",
       "      <td>-0.027213</td>\n",
       "    </tr>\n",
       "    <tr>\n",
       "      <th>3</th>\n",
       "      <td>100008</td>\n",
       "      <td>0</td>\n",
       "      <td>0</td>\n",
       "      <td>0</td>\n",
       "      <td>0</td>\n",
       "      <td>1</td>\n",
       "      <td>0</td>\n",
       "      <td>0</td>\n",
       "      <td>1</td>\n",
       "      <td>0</td>\n",
       "      <td>...</td>\n",
       "      <td>-0.040427</td>\n",
       "      <td>-0.427934</td>\n",
       "      <td>-0.461660</td>\n",
       "      <td>-0.316368</td>\n",
       "      <td>-0.152157</td>\n",
       "      <td>0.199437</td>\n",
       "      <td>0.055863</td>\n",
       "      <td>0.179610</td>\n",
       "      <td>0.017723</td>\n",
       "      <td>-0.167782</td>\n",
       "    </tr>\n",
       "    <tr>\n",
       "      <th>4</th>\n",
       "      <td>100009</td>\n",
       "      <td>0</td>\n",
       "      <td>0</td>\n",
       "      <td>0</td>\n",
       "      <td>1</td>\n",
       "      <td>0</td>\n",
       "      <td>0</td>\n",
       "      <td>1</td>\n",
       "      <td>0</td>\n",
       "      <td>0</td>\n",
       "      <td>...</td>\n",
       "      <td>-0.040427</td>\n",
       "      <td>-0.427934</td>\n",
       "      <td>-0.461660</td>\n",
       "      <td>-0.316368</td>\n",
       "      <td>2.487096</td>\n",
       "      <td>-0.060251</td>\n",
       "      <td>1.864621</td>\n",
       "      <td>-0.097039</td>\n",
       "      <td>-0.220642</td>\n",
       "      <td>-0.347326</td>\n",
       "    </tr>\n",
       "  </tbody>\n",
       "</table>\n",
       "<p>5 rows × 25 columns</p>\n",
       "</div>"
      ],
      "text/plain": [
       "  donorID  target  language  Couple  Female  Male  Solo  S_Brussels  \\\n",
       "0  100001       0         0       0       0     1     0           0   \n",
       "1  100002       0         1       0       0     1     0           0   \n",
       "2  100004       0         0       0       0     1     0           1   \n",
       "3  100008       0         0       0       0     1     0           0   \n",
       "4  100009       0         0       0       1     0     0           1   \n",
       "\n",
       "   S_Flanders  S_Wallonia  ...  sum gifts last 2year  avg_amount last 5year  \\\n",
       "0           1           0  ...             -0.040427              -0.427934   \n",
       "1           1           0  ...             -0.040427               0.727760   \n",
       "2           0           0  ...             -0.040427              -0.427934   \n",
       "3           1           0  ...             -0.040427              -0.427934   \n",
       "4           0           0  ...             -0.040427              -0.427934   \n",
       "\n",
       "   sum gifts last 5year  avg_amount last 10year  sum gifts last 10year  \\\n",
       "0             -0.461660               -0.316368               1.020844   \n",
       "1              0.144273               -0.316368              -0.445407   \n",
       "2             -0.461660               -0.316368               1.314095   \n",
       "3             -0.461660               -0.316368              -0.152157   \n",
       "4             -0.461660               -0.316368               2.487096   \n",
       "\n",
       "   avg_amount last 23year  sum gifts last 23year  max_gift  min_gift  \\\n",
       "0               -0.011366               1.347833 -0.041709 -0.230946   \n",
       "1               -0.150817              -0.460925 -0.152369 -0.048085   \n",
       "2                0.140520               4.706954  0.174962  0.017723   \n",
       "3                0.199437               0.055863  0.179610  0.017723   \n",
       "4               -0.060251               1.864621 -0.097039 -0.220642   \n",
       "\n",
       "   days_recency  \n",
       "0     -0.259790  \n",
       "1     -1.031637  \n",
       "2     -0.027213  \n",
       "3     -0.167782  \n",
       "4     -0.347326  \n",
       "\n",
       "[5 rows x 25 columns]"
      ]
     },
     "execution_count": 49,
     "metadata": {},
     "output_type": "execute_result"
    }
   ],
   "source": [
    "final_training_set.head()"
   ]
  },
  {
   "cell_type": "code",
   "execution_count": 50,
   "metadata": {},
   "outputs": [
    {
     "data": {
      "text/html": [
       "<div>\n",
       "<style scoped>\n",
       "    .dataframe tbody tr th:only-of-type {\n",
       "        vertical-align: middle;\n",
       "    }\n",
       "\n",
       "    .dataframe tbody tr th {\n",
       "        vertical-align: top;\n",
       "    }\n",
       "\n",
       "    .dataframe thead th {\n",
       "        text-align: right;\n",
       "    }\n",
       "</style>\n",
       "<table border=\"1\" class=\"dataframe\">\n",
       "  <thead>\n",
       "    <tr style=\"text-align: right;\">\n",
       "      <th></th>\n",
       "      <th>donorID</th>\n",
       "      <th>target</th>\n",
       "      <th>language</th>\n",
       "      <th>Couple</th>\n",
       "      <th>Female</th>\n",
       "      <th>Male</th>\n",
       "      <th>Solo</th>\n",
       "      <th>S_Brussels</th>\n",
       "      <th>S_Flanders</th>\n",
       "      <th>S_Wallonia</th>\n",
       "      <th>...</th>\n",
       "      <th>sum gifts last 2year</th>\n",
       "      <th>avg_amount last 5year</th>\n",
       "      <th>sum gifts last 5year</th>\n",
       "      <th>avg_amount last 10year</th>\n",
       "      <th>sum gifts last 10year</th>\n",
       "      <th>avg_amount last 23year</th>\n",
       "      <th>sum gifts last 23year</th>\n",
       "      <th>max_gift</th>\n",
       "      <th>min_gift</th>\n",
       "      <th>days_recency</th>\n",
       "    </tr>\n",
       "  </thead>\n",
       "  <tbody>\n",
       "    <tr>\n",
       "      <th>0</th>\n",
       "      <td>100001</td>\n",
       "      <td>0</td>\n",
       "      <td>0</td>\n",
       "      <td>0</td>\n",
       "      <td>0</td>\n",
       "      <td>1</td>\n",
       "      <td>0</td>\n",
       "      <td>0</td>\n",
       "      <td>1</td>\n",
       "      <td>0</td>\n",
       "      <td>...</td>\n",
       "      <td>-0.045694</td>\n",
       "      <td>-0.451100</td>\n",
       "      <td>-0.502416</td>\n",
       "      <td>-0.342413</td>\n",
       "      <td>0.736747</td>\n",
       "      <td>0.107029</td>\n",
       "      <td>1.396861</td>\n",
       "      <td>-0.063441</td>\n",
       "      <td>-0.555897</td>\n",
       "      <td>0.119459</td>\n",
       "    </tr>\n",
       "    <tr>\n",
       "      <th>1</th>\n",
       "      <td>100002</td>\n",
       "      <td>0</td>\n",
       "      <td>1</td>\n",
       "      <td>0</td>\n",
       "      <td>0</td>\n",
       "      <td>1</td>\n",
       "      <td>0</td>\n",
       "      <td>0</td>\n",
       "      <td>1</td>\n",
       "      <td>0</td>\n",
       "      <td>...</td>\n",
       "      <td>-0.045694</td>\n",
       "      <td>0.756758</td>\n",
       "      <td>0.264879</td>\n",
       "      <td>-0.342413</td>\n",
       "      <td>-0.484692</td>\n",
       "      <td>-0.374216</td>\n",
       "      <td>-0.427524</td>\n",
       "      <td>-0.213967</td>\n",
       "      <td>-0.116486</td>\n",
       "      <td>-0.906142</td>\n",
       "    </tr>\n",
       "    <tr>\n",
       "      <th>2</th>\n",
       "      <td>100008</td>\n",
       "      <td>0</td>\n",
       "      <td>0</td>\n",
       "      <td>0</td>\n",
       "      <td>0</td>\n",
       "      <td>1</td>\n",
       "      <td>0</td>\n",
       "      <td>0</td>\n",
       "      <td>1</td>\n",
       "      <td>0</td>\n",
       "      <td>...</td>\n",
       "      <td>-0.045694</td>\n",
       "      <td>-0.451100</td>\n",
       "      <td>-0.502416</td>\n",
       "      <td>-0.342413</td>\n",
       "      <td>-0.179333</td>\n",
       "      <td>0.659586</td>\n",
       "      <td>0.028572</td>\n",
       "      <td>0.237612</td>\n",
       "      <td>0.041649</td>\n",
       "      <td>0.241716</td>\n",
       "    </tr>\n",
       "    <tr>\n",
       "      <th>3</th>\n",
       "      <td>100009</td>\n",
       "      <td>0</td>\n",
       "      <td>0</td>\n",
       "      <td>0</td>\n",
       "      <td>1</td>\n",
       "      <td>0</td>\n",
       "      <td>0</td>\n",
       "      <td>1</td>\n",
       "      <td>0</td>\n",
       "      <td>0</td>\n",
       "      <td>...</td>\n",
       "      <td>-0.045694</td>\n",
       "      <td>-0.451100</td>\n",
       "      <td>-0.502416</td>\n",
       "      <td>-0.342413</td>\n",
       "      <td>1.652826</td>\n",
       "      <td>0.046561</td>\n",
       "      <td>2.309053</td>\n",
       "      <td>-0.138704</td>\n",
       "      <td>-0.531136</td>\n",
       "      <td>0.003145</td>\n",
       "    </tr>\n",
       "    <tr>\n",
       "      <th>4</th>\n",
       "      <td>100010</td>\n",
       "      <td>0</td>\n",
       "      <td>1</td>\n",
       "      <td>1</td>\n",
       "      <td>0</td>\n",
       "      <td>0</td>\n",
       "      <td>0</td>\n",
       "      <td>1</td>\n",
       "      <td>0</td>\n",
       "      <td>0</td>\n",
       "      <td>...</td>\n",
       "      <td>-0.045694</td>\n",
       "      <td>1.964617</td>\n",
       "      <td>0.264879</td>\n",
       "      <td>-0.342413</td>\n",
       "      <td>-0.484692</td>\n",
       "      <td>-0.374216</td>\n",
       "      <td>-0.427524</td>\n",
       "      <td>0.087086</td>\n",
       "      <td>0.543786</td>\n",
       "      <td>-0.904444</td>\n",
       "    </tr>\n",
       "  </tbody>\n",
       "</table>\n",
       "<p>5 rows × 25 columns</p>\n",
       "</div>"
      ],
      "text/plain": [
       "  donorID  target  language  Couple  Female  Male  Solo  S_Brussels  \\\n",
       "0  100001       0         0       0       0     1     0           0   \n",
       "1  100002       0         1       0       0     1     0           0   \n",
       "2  100008       0         0       0       0     1     0           0   \n",
       "3  100009       0         0       0       1     0     0           1   \n",
       "4  100010       0         1       1       0     0     0           1   \n",
       "\n",
       "   S_Flanders  S_Wallonia  ...  sum gifts last 2year  avg_amount last 5year  \\\n",
       "0           1           0  ...             -0.045694              -0.451100   \n",
       "1           1           0  ...             -0.045694               0.756758   \n",
       "2           1           0  ...             -0.045694              -0.451100   \n",
       "3           0           0  ...             -0.045694              -0.451100   \n",
       "4           0           0  ...             -0.045694               1.964617   \n",
       "\n",
       "   sum gifts last 5year  avg_amount last 10year  sum gifts last 10year  \\\n",
       "0             -0.502416               -0.342413               0.736747   \n",
       "1              0.264879               -0.342413              -0.484692   \n",
       "2             -0.502416               -0.342413              -0.179333   \n",
       "3             -0.502416               -0.342413               1.652826   \n",
       "4              0.264879               -0.342413              -0.484692   \n",
       "\n",
       "   avg_amount last 23year  sum gifts last 23year  max_gift  min_gift  \\\n",
       "0                0.107029               1.396861 -0.063441 -0.555897   \n",
       "1               -0.374216              -0.427524 -0.213967 -0.116486   \n",
       "2                0.659586               0.028572  0.237612  0.041649   \n",
       "3                0.046561               2.309053 -0.138704 -0.531136   \n",
       "4               -0.374216              -0.427524  0.087086  0.543786   \n",
       "\n",
       "   days_recency  \n",
       "0      0.119459  \n",
       "1     -0.906142  \n",
       "2      0.241716  \n",
       "3      0.003145  \n",
       "4     -0.904444  \n",
       "\n",
       "[5 rows x 25 columns]"
      ]
     },
     "execution_count": 50,
     "metadata": {},
     "output_type": "execute_result"
    }
   ],
   "source": [
    "final_test_set.head()"
   ]
  },
  {
   "cell_type": "markdown",
   "metadata": {},
   "source": [
    "#### 7. Building models"
   ]
  },
  {
   "cell_type": "markdown",
   "metadata": {},
   "source": [
    "##### 7.1 Partition training set"
   ]
  },
  {
   "cell_type": "code",
   "execution_count": 51,
   "metadata": {},
   "outputs": [],
   "source": [
    "X=final_training_set\n",
    "y=final_training_set[['target']]\n",
    "X_train, X_test, y_train, y_test = train_test_split(X, y, test_size=0.3, random_state=21, stratify=y)\n",
    "train = X_train\n",
    "test = X_test"
   ]
  },
  {
   "cell_type": "code",
   "execution_count": 52,
   "metadata": {},
   "outputs": [],
   "source": [
    "train=train.reset_index(drop=True)\n",
    "test=test.reset_index(drop=True)"
   ]
  },
  {
   "cell_type": "markdown",
   "metadata": {},
   "source": [
    "##### 7.2 Stepwise Forward Logistic Regression"
   ]
  },
  {
   "cell_type": "code",
   "execution_count": 53,
   "metadata": {},
   "outputs": [],
   "source": [
    "# Defining candidate features, test, train data and model\n",
    "\n",
    "candidateFeatures=['language', 'Couple', 'Female', 'Male', 'Solo', 'S_Brussels', 'S_Flanders', 'S_Wallonia', \n",
    "                   'total_amount', 'nbr_donations', 'avg_amount year one', 'Sum gifts last year', 'avg_amount last 2year', \n",
    "                   'sum gifts last 2year', 'avg_amount last 5year', 'sum gifts last 5year', 'avg_amount last 10year', \n",
    "                   'sum gifts last 10year', 'avg_amount last 23year', 'sum gifts last 23year', 'max_gift', 'min_gift', \n",
    "                   'days_recency']  \n",
    "target=\"target\"\n",
    "model_step = LogisticRegression(solver = \"lbfgs\", max_iter = 500)\n",
    "train_step=train\n",
    "test_step=test"
   ]
  },
  {
   "cell_type": "code",
   "execution_count": 54,
   "metadata": {},
   "outputs": [],
   "source": [
    "def stepwiseRegresion (trainingSet: DataFrame, testSet: DataFrame, selectedFeatures: [str], target: [str]) -> DataFrame:\n",
    "\n",
    "    def computeAUC (forFeatures: [str]) -> ([str],float,float):\n",
    "    \n",
    "        model_step.fit(trainingSet[forFeatures], trainingSet[target])\n",
    "\n",
    "        trainingSet[\"proba target stepwise\"] = DataFrame(model_step.predict_proba(trainingSet[forFeatures]))[1]\n",
    "        testSet[\"proba target stepwise\"]     = DataFrame(model_step.predict_proba(testSet[forFeatures]))[1]\n",
    "\n",
    "        aucTraining = roc_auc_score(array(trainingSet[target]),array(trainingSet[\"proba target stepwise\"]))\n",
    "        aucTest     = roc_auc_score(array(testSet[target]),array(testSet[\"proba target stepwise\"]))\n",
    "\n",
    "        trainingSet.drop(\"proba target stepwise\", axis = 1)\n",
    "        testSet.drop(\"proba target stepwise\", axis = 1)\n",
    "\n",
    "        return (forFeatures,aucTraining,aucTest)\n",
    "\n",
    "    featuresOrder = []\n",
    "    forwardSelection = []\n",
    "\n",
    "    for step in range(len(selectedFeatures)):\n",
    "        print(f\"step {step+1}\")\n",
    "        aucs = []\n",
    "        for feature in selectedFeatures:\n",
    "            if feature not in featuresOrder:\n",
    "                modelFeatures = featuresOrder.copy()\n",
    "                modelFeatures.append(feature)\n",
    "                aucs.append(computeAUC(forFeatures = modelFeatures))\n",
    "\n",
    "        steps = DataFrame(aucs)\n",
    "        steps.columns = [\"Feature\",\"AUC training\", \"AUC test\"]\n",
    "        steps = steps.sort_values(by=[\"AUC test\"], ascending = False)\n",
    "\n",
    "        featuresOrder = steps[\"Feature\"].iloc[0]\n",
    "        forwardSelection.append((step+1, steps[\"Feature\"].iloc[0],steps[\"AUC training\"].iloc[0],steps[\"AUC test\"].iloc[0]))\n",
    "\n",
    "    df = DataFrame(forwardSelection)\n",
    "    df.columns = (\"Step\",\"Features\",\"AUC Train\",\"AUC Test\")\n",
    "    \n",
    "    return df"
   ]
  },
  {
   "cell_type": "code",
   "execution_count": 55,
   "metadata": {},
   "outputs": [
    {
     "name": "stdout",
     "output_type": "stream",
     "text": [
      "step 1\n",
      "step 2\n",
      "step 3\n",
      "step 4\n",
      "step 5\n",
      "step 6\n",
      "step 7\n",
      "step 8\n",
      "step 9\n",
      "step 10\n",
      "step 11\n",
      "step 12\n",
      "step 13\n",
      "step 14\n",
      "step 15\n",
      "step 16\n",
      "step 17\n",
      "step 18\n",
      "step 19\n",
      "step 20\n",
      "step 21\n",
      "step 22\n",
      "step 23\n"
     ]
    }
   ],
   "source": [
    "forwardSelection = stepwiseRegresion(trainingSet      = train_step, \n",
    "                                     testSet          = test_step, \n",
    "                                     selectedFeatures = candidateFeatures,\n",
    "                                     target           = target)\n"
   ]
  },
  {
   "cell_type": "code",
   "execution_count": 56,
   "metadata": {},
   "outputs": [
    {
     "data": {
      "text/html": [
       "<div>\n",
       "<style scoped>\n",
       "    .dataframe tbody tr th:only-of-type {\n",
       "        vertical-align: middle;\n",
       "    }\n",
       "\n",
       "    .dataframe tbody tr th {\n",
       "        vertical-align: top;\n",
       "    }\n",
       "\n",
       "    .dataframe thead th {\n",
       "        text-align: right;\n",
       "    }\n",
       "</style>\n",
       "<table border=\"1\" class=\"dataframe\">\n",
       "  <thead>\n",
       "    <tr style=\"text-align: right;\">\n",
       "      <th></th>\n",
       "      <th>Step</th>\n",
       "      <th>Features</th>\n",
       "      <th>AUC Train</th>\n",
       "      <th>AUC Test</th>\n",
       "    </tr>\n",
       "  </thead>\n",
       "  <tbody>\n",
       "    <tr>\n",
       "      <th>0</th>\n",
       "      <td>1</td>\n",
       "      <td>[max_gift]</td>\n",
       "      <td>0.624962</td>\n",
       "      <td>0.636744</td>\n",
       "    </tr>\n",
       "    <tr>\n",
       "      <th>1</th>\n",
       "      <td>2</td>\n",
       "      <td>[max_gift, avg_amount last 10year]</td>\n",
       "      <td>0.626599</td>\n",
       "      <td>0.642413</td>\n",
       "    </tr>\n",
       "    <tr>\n",
       "      <th>2</th>\n",
       "      <td>3</td>\n",
       "      <td>[max_gift, avg_amount last 10year, sum gifts l...</td>\n",
       "      <td>0.624966</td>\n",
       "      <td>0.645326</td>\n",
       "    </tr>\n",
       "    <tr>\n",
       "      <th>3</th>\n",
       "      <td>4</td>\n",
       "      <td>[max_gift, avg_amount last 10year, sum gifts l...</td>\n",
       "      <td>0.624966</td>\n",
       "      <td>0.645326</td>\n",
       "    </tr>\n",
       "    <tr>\n",
       "      <th>4</th>\n",
       "      <td>5</td>\n",
       "      <td>[max_gift, avg_amount last 10year, sum gifts l...</td>\n",
       "      <td>0.624966</td>\n",
       "      <td>0.645326</td>\n",
       "    </tr>\n",
       "    <tr>\n",
       "      <th>5</th>\n",
       "      <td>6</td>\n",
       "      <td>[max_gift, avg_amount last 10year, sum gifts l...</td>\n",
       "      <td>0.624646</td>\n",
       "      <td>0.645171</td>\n",
       "    </tr>\n",
       "    <tr>\n",
       "      <th>6</th>\n",
       "      <td>7</td>\n",
       "      <td>[max_gift, avg_amount last 10year, sum gifts l...</td>\n",
       "      <td>0.596172</td>\n",
       "      <td>0.638573</td>\n",
       "    </tr>\n",
       "    <tr>\n",
       "      <th>7</th>\n",
       "      <td>8</td>\n",
       "      <td>[max_gift, avg_amount last 10year, sum gifts l...</td>\n",
       "      <td>0.574743</td>\n",
       "      <td>0.617210</td>\n",
       "    </tr>\n",
       "    <tr>\n",
       "      <th>8</th>\n",
       "      <td>9</td>\n",
       "      <td>[max_gift, avg_amount last 10year, sum gifts l...</td>\n",
       "      <td>0.574855</td>\n",
       "      <td>0.609182</td>\n",
       "    </tr>\n",
       "    <tr>\n",
       "      <th>9</th>\n",
       "      <td>10</td>\n",
       "      <td>[max_gift, avg_amount last 10year, sum gifts l...</td>\n",
       "      <td>0.573382</td>\n",
       "      <td>0.610407</td>\n",
       "    </tr>\n",
       "    <tr>\n",
       "      <th>10</th>\n",
       "      <td>11</td>\n",
       "      <td>[max_gift, avg_amount last 10year, sum gifts l...</td>\n",
       "      <td>0.571576</td>\n",
       "      <td>0.610962</td>\n",
       "    </tr>\n",
       "    <tr>\n",
       "      <th>11</th>\n",
       "      <td>12</td>\n",
       "      <td>[max_gift, avg_amount last 10year, sum gifts l...</td>\n",
       "      <td>0.572950</td>\n",
       "      <td>0.621293</td>\n",
       "    </tr>\n",
       "    <tr>\n",
       "      <th>12</th>\n",
       "      <td>13</td>\n",
       "      <td>[max_gift, avg_amount last 10year, sum gifts l...</td>\n",
       "      <td>0.577186</td>\n",
       "      <td>0.624057</td>\n",
       "    </tr>\n",
       "    <tr>\n",
       "      <th>13</th>\n",
       "      <td>14</td>\n",
       "      <td>[max_gift, avg_amount last 10year, sum gifts l...</td>\n",
       "      <td>0.593455</td>\n",
       "      <td>0.631282</td>\n",
       "    </tr>\n",
       "    <tr>\n",
       "      <th>14</th>\n",
       "      <td>15</td>\n",
       "      <td>[max_gift, avg_amount last 10year, sum gifts l...</td>\n",
       "      <td>0.593924</td>\n",
       "      <td>0.629805</td>\n",
       "    </tr>\n",
       "    <tr>\n",
       "      <th>15</th>\n",
       "      <td>16</td>\n",
       "      <td>[max_gift, avg_amount last 10year, sum gifts l...</td>\n",
       "      <td>0.593955</td>\n",
       "      <td>0.627630</td>\n",
       "    </tr>\n",
       "    <tr>\n",
       "      <th>16</th>\n",
       "      <td>17</td>\n",
       "      <td>[max_gift, avg_amount last 10year, sum gifts l...</td>\n",
       "      <td>0.593948</td>\n",
       "      <td>0.627276</td>\n",
       "    </tr>\n",
       "    <tr>\n",
       "      <th>17</th>\n",
       "      <td>18</td>\n",
       "      <td>[max_gift, avg_amount last 10year, sum gifts l...</td>\n",
       "      <td>0.606081</td>\n",
       "      <td>0.625642</td>\n",
       "    </tr>\n",
       "    <tr>\n",
       "      <th>18</th>\n",
       "      <td>19</td>\n",
       "      <td>[max_gift, avg_amount last 10year, sum gifts l...</td>\n",
       "      <td>0.616017</td>\n",
       "      <td>0.627031</td>\n",
       "    </tr>\n",
       "    <tr>\n",
       "      <th>19</th>\n",
       "      <td>20</td>\n",
       "      <td>[max_gift, avg_amount last 10year, sum gifts l...</td>\n",
       "      <td>0.616712</td>\n",
       "      <td>0.627233</td>\n",
       "    </tr>\n",
       "    <tr>\n",
       "      <th>20</th>\n",
       "      <td>21</td>\n",
       "      <td>[max_gift, avg_amount last 10year, sum gifts l...</td>\n",
       "      <td>0.617587</td>\n",
       "      <td>0.627005</td>\n",
       "    </tr>\n",
       "    <tr>\n",
       "      <th>21</th>\n",
       "      <td>22</td>\n",
       "      <td>[max_gift, avg_amount last 10year, sum gifts l...</td>\n",
       "      <td>0.618099</td>\n",
       "      <td>0.625655</td>\n",
       "    </tr>\n",
       "    <tr>\n",
       "      <th>22</th>\n",
       "      <td>23</td>\n",
       "      <td>[max_gift, avg_amount last 10year, sum gifts l...</td>\n",
       "      <td>0.611184</td>\n",
       "      <td>0.615674</td>\n",
       "    </tr>\n",
       "  </tbody>\n",
       "</table>\n",
       "</div>"
      ],
      "text/plain": [
       "    Step                                           Features  AUC Train  \\\n",
       "0      1                                         [max_gift]   0.624962   \n",
       "1      2                 [max_gift, avg_amount last 10year]   0.626599   \n",
       "2      3  [max_gift, avg_amount last 10year, sum gifts l...   0.624966   \n",
       "3      4  [max_gift, avg_amount last 10year, sum gifts l...   0.624966   \n",
       "4      5  [max_gift, avg_amount last 10year, sum gifts l...   0.624966   \n",
       "5      6  [max_gift, avg_amount last 10year, sum gifts l...   0.624646   \n",
       "6      7  [max_gift, avg_amount last 10year, sum gifts l...   0.596172   \n",
       "7      8  [max_gift, avg_amount last 10year, sum gifts l...   0.574743   \n",
       "8      9  [max_gift, avg_amount last 10year, sum gifts l...   0.574855   \n",
       "9     10  [max_gift, avg_amount last 10year, sum gifts l...   0.573382   \n",
       "10    11  [max_gift, avg_amount last 10year, sum gifts l...   0.571576   \n",
       "11    12  [max_gift, avg_amount last 10year, sum gifts l...   0.572950   \n",
       "12    13  [max_gift, avg_amount last 10year, sum gifts l...   0.577186   \n",
       "13    14  [max_gift, avg_amount last 10year, sum gifts l...   0.593455   \n",
       "14    15  [max_gift, avg_amount last 10year, sum gifts l...   0.593924   \n",
       "15    16  [max_gift, avg_amount last 10year, sum gifts l...   0.593955   \n",
       "16    17  [max_gift, avg_amount last 10year, sum gifts l...   0.593948   \n",
       "17    18  [max_gift, avg_amount last 10year, sum gifts l...   0.606081   \n",
       "18    19  [max_gift, avg_amount last 10year, sum gifts l...   0.616017   \n",
       "19    20  [max_gift, avg_amount last 10year, sum gifts l...   0.616712   \n",
       "20    21  [max_gift, avg_amount last 10year, sum gifts l...   0.617587   \n",
       "21    22  [max_gift, avg_amount last 10year, sum gifts l...   0.618099   \n",
       "22    23  [max_gift, avg_amount last 10year, sum gifts l...   0.611184   \n",
       "\n",
       "    AUC Test  \n",
       "0   0.636744  \n",
       "1   0.642413  \n",
       "2   0.645326  \n",
       "3   0.645326  \n",
       "4   0.645326  \n",
       "5   0.645171  \n",
       "6   0.638573  \n",
       "7   0.617210  \n",
       "8   0.609182  \n",
       "9   0.610407  \n",
       "10  0.610962  \n",
       "11  0.621293  \n",
       "12  0.624057  \n",
       "13  0.631282  \n",
       "14  0.629805  \n",
       "15  0.627630  \n",
       "16  0.627276  \n",
       "17  0.625642  \n",
       "18  0.627031  \n",
       "19  0.627233  \n",
       "20  0.627005  \n",
       "21  0.625655  \n",
       "22  0.615674  "
      ]
     },
     "execution_count": 56,
     "metadata": {},
     "output_type": "execute_result"
    }
   ],
   "source": [
    "forwardSelection"
   ]
  },
  {
   "cell_type": "markdown",
   "metadata": {},
   "source": [
    "##### AUC Test and AUC Train Stepwise Forward Logistic Regression"
   ]
  },
  {
   "cell_type": "code",
   "execution_count": 57,
   "metadata": {},
   "outputs": [
    {
     "data": {
      "text/plain": [
       "array([list(['max_gift', 'avg_amount last 10year', 'sum gifts last 2year', 'avg_amount year one', 'Sum gifts last year'])],\n",
       "      dtype=object)"
      ]
     },
     "execution_count": 57,
     "metadata": {},
     "output_type": "execute_result"
    }
   ],
   "source": [
    "step_features=np.array(forwardSelection.loc[4,[\"Features\"]])\n",
    "step_features"
   ]
  },
  {
   "cell_type": "code",
   "execution_count": 58,
   "metadata": {},
   "outputs": [
    {
     "name": "stdout",
     "output_type": "stream",
     "text": [
      "AUC Train:  0.6246461940572694\n",
      "AUC Test:  0.6451714057426948\n"
     ]
    }
   ],
   "source": [
    "# AUC test and AUC train\n",
    "AUC_test_step=forwardSelection.loc[5,\"AUC Test\"]\n",
    "AUC_train_step=forwardSelection.loc[5,\"AUC Train\"]\n",
    "print(\"AUC Train: \", AUC_train_step)\n",
    "print(\"AUC Test: \", AUC_test_step)"
   ]
  },
  {
   "cell_type": "markdown",
   "metadata": {},
   "source": [
    "##### ROC Curve Stepwise Forward Logistic Regression"
   ]
  },
  {
   "cell_type": "code",
   "execution_count": 59,
   "metadata": {},
   "outputs": [],
   "source": [
    "# Defining model and fetures for plotting the ROC\n",
    "\n",
    "model_step=LogisticRegression(solver = \"lbfgs\", max_iter = 500)\n",
    "target=\"target\"\n",
    "step_features=['max_gift', 'avg_amount last 10year', 'sum gifts last 2year', 'avg_amount year one', 'Sum gifts last year']"
   ]
  },
  {
   "cell_type": "code",
   "execution_count": 60,
   "metadata": {},
   "outputs": [
    {
     "data": {
      "text/plain": [
       "LogisticRegression(C=1.0, class_weight=None, dual=False, fit_intercept=True,\n",
       "                   intercept_scaling=1, l1_ratio=None, max_iter=500,\n",
       "                   multi_class='warn', n_jobs=None, penalty='l2',\n",
       "                   random_state=None, solver='lbfgs', tol=0.0001, verbose=0,\n",
       "                   warm_start=False)"
      ]
     },
     "execution_count": 60,
     "metadata": {},
     "output_type": "execute_result"
    }
   ],
   "source": [
    "model_step.fit(train_step[step_features], train_step[target])"
   ]
  },
  {
   "cell_type": "code",
   "execution_count": 61,
   "metadata": {},
   "outputs": [],
   "source": [
    "test_step[\"proba target\"]     = DataFrame(model_step.predict_proba(test_step[step_features]))[1]"
   ]
  },
  {
   "cell_type": "code",
   "execution_count": 62,
   "metadata": {},
   "outputs": [],
   "source": [
    "rocTest     = roc(dataSet = test_step, actuals = target, probability = \"proba target\")"
   ]
  },
  {
   "cell_type": "code",
   "execution_count": 63,
   "metadata": {},
   "outputs": [
    {
     "data": {
      "text/plain": [
       "Text(0.5, 1.0, 'Receiver Operating Characteristic')"
      ]
     },
     "execution_count": 63,
     "metadata": {},
     "output_type": "execute_result"
    },
    {
     "data": {
      "image/png": "[encoded data removed]",
      "text/plain": [
       "<Figure size 432x288 with 1 Axes>"
      ]
     },
     "metadata": {
      "needs_background": "light"
     },
     "output_type": "display_data"
    }
   ],
   "source": [
    "pyplot.plot(rocTest[\"False positive rate\"], rocTest[\"True positive rate\"])\n",
    "pyplot.plot([0, 1], [0, 1], 'k--')\n",
    "pyplot.xlim([0.0, 1.0])\n",
    "pyplot.ylim([0.0, 1.0])\n",
    "pyplot.xlabel(\"False Positive Rate or (1 - Specifity)\")\n",
    "pyplot.ylabel(\"True Positive Rate or (Sensitivity)\")\n",
    "pyplot.title(\"Receiver Operating Characteristic\")"
   ]
  },
  {
   "cell_type": "markdown",
   "metadata": {},
   "source": [
    "##### Cumulative Gains Stepwise Forward Logistic Regression"
   ]
  },
  {
   "cell_type": "code",
   "execution_count": 64,
   "metadata": {},
   "outputs": [],
   "source": [
    "predictions_step=DataFrame(model_step.predict_proba(test_step[step_features]))\n",
    "actuals_step= test_step[\"target\"]"
   ]
  },
  {
   "cell_type": "code",
   "execution_count": 65,
   "metadata": {},
   "outputs": [
    {
     "data": {
      "image/png": "[encoded data removed]",
      "text/plain": [
       "<Figure size 432x288 with 1 Axes>"
      ]
     },
     "metadata": {
      "needs_background": "light"
     },
     "output_type": "display_data"
    }
   ],
   "source": [
    "skplt.metrics.plot_cumulative_gain(actuals_step, predictions_step)\n",
    "pyplot.show()"
   ]
  },
  {
   "cell_type": "markdown",
   "metadata": {},
   "source": [
    "##### Lift Curve Stepwise Forward Logistic Regression"
   ]
  },
  {
   "cell_type": "code",
   "execution_count": 66,
   "metadata": {},
   "outputs": [],
   "source": [
    "predictions_step=DataFrame(model_step.predict_proba(test_step[step_features]))\n",
    "actuals_step= test_step[\"target\"]"
   ]
  },
  {
   "cell_type": "code",
   "execution_count": 67,
   "metadata": {},
   "outputs": [
    {
     "data": {
      "image/png": "[encoded data removed]",
      "text/plain": [
       "<Figure size 432x432 with 1 Axes>"
      ]
     },
     "metadata": {
      "needs_background": "light"
     },
     "output_type": "display_data"
    }
   ],
   "source": [
    "skplt.metrics.plot_lift_curve(actuals_step, predictions_step, figsize= (6, 6))\n",
    "pyplot.show()"
   ]
  },
  {
   "cell_type": "markdown",
   "metadata": {},
   "source": [
    "##### 7.3 Gradient Boosting Classifier"
   ]
  },
  {
   "cell_type": "code",
   "execution_count": 68,
   "metadata": {},
   "outputs": [],
   "source": [
    "# Defining train and test data and model for modeling\n",
    "\n",
    "from sklearn.ensemble import GradientBoostingClassifier\n",
    "\n",
    "train_gradient=train[['max_gift', 'avg_amount last 10year', 'sum gifts last 2year', 'avg_amount year one', \n",
    "                      'Sum gifts last year']]\n",
    "\n",
    "test_gradient=test[['max_gift', 'avg_amount last 10year', 'sum gifts last 2year', 'avg_amount year one', \n",
    "                    'Sum gifts last year']]\n",
    "\n",
    "train_gradient_target=train\n",
    "test_gradient_test=test\n",
    "\n",
    "Model_GradientBoostingClassifier = GradientBoostingClassifier(max_depth=3,learning_rate=0.02, random_state=123)"
   ]
  },
  {
   "cell_type": "code",
   "execution_count": 69,
   "metadata": {},
   "outputs": [
    {
     "name": "stderr",
     "output_type": "stream",
     "text": [
      "C:\\ProgramData\\Anaconda3\\lib\\site-packages\\sklearn\\ensemble\\gradient_boosting.py:1450: DataConversionWarning: A column-vector y was passed when a 1d array was expected. Please change the shape of y to (n_samples, ), for example using ravel().\n",
      "  y = column_or_1d(y, warn=True)\n"
     ]
    },
    {
     "data": {
      "text/plain": [
       "GradientBoostingClassifier(criterion='friedman_mse', init=None,\n",
       "                           learning_rate=0.02, loss='deviance', max_depth=3,\n",
       "                           max_features=None, max_leaf_nodes=None,\n",
       "                           min_impurity_decrease=0.0, min_impurity_split=None,\n",
       "                           min_samples_leaf=1, min_samples_split=2,\n",
       "                           min_weight_fraction_leaf=0.0, n_estimators=100,\n",
       "                           n_iter_no_change=None, presort='auto',\n",
       "                           random_state=123, subsample=1.0, tol=0.0001,\n",
       "                           validation_fraction=0.1, verbose=0,\n",
       "                           warm_start=False)"
      ]
     },
     "execution_count": 69,
     "metadata": {},
     "output_type": "execute_result"
    }
   ],
   "source": [
    "# Running Gradient Model\n",
    "\n",
    "training_subset_X = pd.DataFrame(train_gradient)\n",
    "test_subset_X = pd.DataFrame(test_gradient)\n",
    "\n",
    "training_target = pd.DataFrame(train_gradient_target['target'])\n",
    "test_target = pd.DataFrame(test_gradient_test['target'])\n",
    "\n",
    "Model_GradientBoostingClassifier.fit(training_subset_X,training_target)"
   ]
  },
  {
   "cell_type": "markdown",
   "metadata": {},
   "source": [
    "##### AUC Test and AUC Train Gradient Boosting Classifier"
   ]
  },
  {
   "cell_type": "code",
   "execution_count": 70,
   "metadata": {},
   "outputs": [
    {
     "name": "stdout",
     "output_type": "stream",
     "text": [
      "AUC Train:  0.6811802677902882\n",
      "AUC Test :  0.6794005554991883\n"
     ]
    }
   ],
   "source": [
    "y_pred_train = Model_GradientBoostingClassifier.predict(training_subset_X)\n",
    "y_pred_prob_train = Model_GradientBoostingClassifier.predict_proba(training_subset_X)[:,1]\n",
    "\n",
    "y_pred_test = Model_GradientBoostingClassifier.predict(test_subset_X)\n",
    "y_pred_prob_test = Model_GradientBoostingClassifier.predict_proba(test_subset_X)[:,1]\n",
    "\n",
    "auc_score_train = roc_auc_score(training_target,y_pred_prob_train)\n",
    "auc_score_test = roc_auc_score(test_target,y_pred_prob_test)\n",
    "print(\"AUC Train: \", auc_score_train)\n",
    "print(\"AUC Test : \", auc_score_test)"
   ]
  },
  {
   "cell_type": "markdown",
   "metadata": {},
   "source": [
    "##### ROC Curve Gradient Boosting Classifier"
   ]
  },
  {
   "cell_type": "code",
   "execution_count": 71,
   "metadata": {},
   "outputs": [
    {
     "data": {
      "image/png": "[encoded data removed]",
      "text/plain": [
       "<Figure size 432x288 with 1 Axes>"
      ]
     },
     "metadata": {
      "needs_background": "light"
     },
     "output_type": "display_data"
    }
   ],
   "source": [
    "fpr, tpr, thresholds = roc_curve(test_target,y_pred_prob_test)\n",
    "\n",
    "pyplot.plot([0,1], [0,1], 'k--')\n",
    "pyplot.plot(fpr, tpr)\n",
    "pyplot.xlabel(\"False posititve rate\")\n",
    "pyplot.ylabel(\"True positive rate\")\n",
    "pyplot.title(\"ROC Curve\")\n",
    "pyplot.show()"
   ]
  },
  {
   "cell_type": "markdown",
   "metadata": {},
   "source": [
    "##### Cumulative Gains Gradient Boosting Classifier"
   ]
  },
  {
   "cell_type": "code",
   "execution_count": 72,
   "metadata": {},
   "outputs": [],
   "source": [
    "predictions_bost=Model_GradientBoostingClassifier.predict_proba(test_subset_X)\n",
    "actuals_bost= test_target[\"target\"]"
   ]
  },
  {
   "cell_type": "code",
   "execution_count": 73,
   "metadata": {},
   "outputs": [
    {
     "data": {
      "image/png": "[encoded data removed]",
      "text/plain": [
       "<Figure size 432x288 with 1 Axes>"
      ]
     },
     "metadata": {
      "needs_background": "light"
     },
     "output_type": "display_data"
    }
   ],
   "source": [
    "skplt.metrics.plot_cumulative_gain(actuals_bost, predictions_bost)\n",
    "pyplot.show()"
   ]
  },
  {
   "cell_type": "markdown",
   "metadata": {},
   "source": [
    "##### Lift Curve Gradient Boosting Classifier"
   ]
  },
  {
   "cell_type": "code",
   "execution_count": 74,
   "metadata": {},
   "outputs": [],
   "source": [
    "predictions_bost=Model_GradientBoostingClassifier.predict_proba(test_subset_X)\n",
    "actuals_bost= test_target[\"target\"]"
   ]
  },
  {
   "cell_type": "code",
   "execution_count": 75,
   "metadata": {},
   "outputs": [
    {
     "data": {
      "image/png": "[encoded data removed]",
      "text/plain": [
       "<Figure size 432x432 with 1 Axes>"
      ]
     },
     "metadata": {
      "needs_background": "light"
     },
     "output_type": "display_data"
    }
   ],
   "source": [
    "skplt.metrics.plot_lift_curve(actuals_bost, predictions_bost, figsize= (6, 6))\n",
    "pyplot.show()"
   ]
  },
  {
   "cell_type": "markdown",
   "metadata": {},
   "source": [
    "##### 7.4 Principal Component Analysis"
   ]
  },
  {
   "cell_type": "code",
   "execution_count": 76,
   "metadata": {},
   "outputs": [],
   "source": [
    "PC_train=train.drop(['target','donorID','proba target stepwise'],axis=1)\n",
    "PC_test=test.drop(['target','donorID','proba target stepwise','proba target'], axis=1)"
   ]
  },
  {
   "cell_type": "code",
   "execution_count": 77,
   "metadata": {},
   "outputs": [
    {
     "data": {
      "image/png": "[encoded data removed]",
      "text/plain": [
       "<Figure size 432x288 with 1 Axes>"
      ]
     },
     "metadata": {
      "needs_background": "light"
     },
     "output_type": "display_data"
    }
   ],
   "source": [
    "# Defining best number of features reduction\n",
    "\n",
    "pca2 = PCA().fit(PC_train)\n",
    "pyplot.figure()\n",
    "pyplot.plot(np.cumsum(pca2.explained_variance_ratio_))\n",
    "pyplot.xlabel('Number of Components')\n",
    "pyplot.ylabel('Variance (%)')\n",
    "pyplot.title('Pulsar Dataset Explained Variance')\n",
    "pyplot.show()\n"
   ]
  },
  {
   "cell_type": "code",
   "execution_count": 78,
   "metadata": {},
   "outputs": [],
   "source": [
    "# Defining PCA model\n",
    "\n",
    "pca = PCA(n_components = 15)\n",
    "pca_train = pca.fit_transform(PC_train)\n",
    "pca_test = pca.fit_transform(PC_test)\n",
    "pca_train = pd.DataFrame(pca_train)\n",
    "pca_test = pd.DataFrame(pca_test)"
   ]
  },
  {
   "cell_type": "code",
   "execution_count": 79,
   "metadata": {},
   "outputs": [
    {
     "name": "stderr",
     "output_type": "stream",
     "text": [
      "C:\\ProgramData\\Anaconda3\\lib\\site-packages\\sklearn\\linear_model\\logistic.py:432: FutureWarning: Default solver will be changed to 'lbfgs' in 0.22. Specify a solver to silence this warning.\n",
      "  FutureWarning)\n",
      "C:\\ProgramData\\Anaconda3\\lib\\site-packages\\sklearn\\utils\\validation.py:724: DataConversionWarning: A column-vector y was passed when a 1d array was expected. Please change the shape of y to (n_samples, ), for example using ravel().\n",
      "  y = column_or_1d(y, warn=True)\n"
     ]
    },
    {
     "data": {
      "image/png": "[encoded data removed]",
      "text/plain": [
       "<Figure size 432x288 with 1 Axes>"
      ]
     },
     "metadata": {
      "needs_background": "light"
     },
     "output_type": "display_data"
    }
   ],
   "source": [
    "# Running PCA model\n",
    "\n",
    "training_subset_X = pd.DataFrame(pca_train)\n",
    "test_subset_X = pd.DataFrame(pca_test)\n",
    "\n",
    "training_target = pd.DataFrame(train['target'])\n",
    "test_target = pd.DataFrame(test['target'])\n",
    "\n",
    "PCA_model = LogisticRegression()\n",
    "\n",
    "PCA_model.fit(training_subset_X,training_target)\n",
    "\n",
    "y_pred = PCA_model.predict(test_subset_X)\n",
    "\n",
    "\n",
    "y_pred_prob = PCA_model.predict_proba(test_subset_X)[:,1]\n",
    "\n",
    "fpr, tpr, thresholds = roc_curve(test_target,y_pred_prob)\n",
    "\n",
    "pyplot.plot([0,1], [0,1], 'k--')\n",
    "pyplot.plot(fpr, tpr)\n",
    "pyplot.xlabel(\"False posititve rate\")\n",
    "pyplot.ylabel(\"True positive rate\")\n",
    "pyplot.title(\"ROC Curve\")\n",
    "pyplot.show()"
   ]
  },
  {
   "cell_type": "code",
   "execution_count": 80,
   "metadata": {},
   "outputs": [
    {
     "data": {
      "text/plain": [
       "0.5267251547280845"
      ]
     },
     "execution_count": 80,
     "metadata": {},
     "output_type": "execute_result"
    }
   ],
   "source": [
    "roc_auc_score(test_target,y_pred_prob)"
   ]
  },
  {
   "cell_type": "markdown",
   "metadata": {},
   "source": [
    "##### 8. Comparing our best models"
   ]
  },
  {
   "cell_type": "markdown",
   "metadata": {},
   "source": [
    "#### Cumulative Gains Curves"
   ]
  },
  {
   "cell_type": "code",
   "execution_count": 81,
   "metadata": {},
   "outputs": [
    {
     "data": {
      "image/png": "[encoded data removed]",
      "text/plain": [
       "<Figure size 432x288 with 1 Axes>"
      ]
     },
     "metadata": {
      "needs_background": "light"
     },
     "output_type": "display_data"
    }
   ],
   "source": [
    "ax2= skplt.metrics.plot_cumulative_gain(actuals_bost, predictions_bost)\n",
    "skplt.metrics.plot_cumulative_gain(actuals_step, predictions_step, ax=ax2)\n",
    "pyplot.legend('')\n",
    "pyplot.show()"
   ]
  },
  {
   "cell_type": "markdown",
   "metadata": {},
   "source": [
    "#### Lift Curves"
   ]
  },
  {
   "cell_type": "code",
   "execution_count": 82,
   "metadata": {},
   "outputs": [
    {
     "data": {
      "image/png": "[encoded data removed]",
      "text/plain": [
       "<Figure size 432x288 with 1 Axes>"
      ]
     },
     "metadata": {
      "needs_background": "light"
     },
     "output_type": "display_data"
    }
   ],
   "source": [
    "ax = skplt.metrics.plot_lift_curve(actuals_bost, predictions_bost)\n",
    "plot=skplt.metrics.plot_lift_curve(actuals_step, predictions_step, ax=ax, figsize= (6, 6))\n",
    "pyplot.legend('')\n",
    "pyplot.show()"
   ]
  },
  {
   "cell_type": "markdown",
   "metadata": {},
   "source": [
    "#### ROC Curves"
   ]
  },
  {
   "cell_type": "code",
   "execution_count": 83,
   "metadata": {},
   "outputs": [
    {
     "data": {
      "image/png": "[encoded data removed]",
      "text/plain": [
       "<Figure size 432x288 with 1 Axes>"
      ]
     },
     "metadata": {
      "needs_background": "light"
     },
     "output_type": "display_data"
    }
   ],
   "source": [
    "# Gradient Boosting ROC\n",
    "\n",
    "fpr, tpr, thresholds = roc_curve(test_target,y_pred_prob_test)\n",
    "\n",
    "pyplot.plot([0,1], [0,1], 'k--')\n",
    "pyplot.plot(fpr, tpr, label='Gradient Boosting',color='orange')\n",
    "pyplot.xlabel(\"False posititve rate\")\n",
    "pyplot.ylabel(\"True positive rate\")\n",
    "\n",
    "# Stepwise Forward Logistic Regression\n",
    "pyplot.plot(rocTest[\"False positive rate\"], rocTest[\"True positive rate\"], label= 'Logistic Regression',color='red')\n",
    "pyplot.plot([0, 1], [0, 1], 'k--')\n",
    "pyplot.xlim([0.0, 1.0])\n",
    "pyplot.ylim([0.0, 1.0])\n",
    "pyplot.xlabel(\"False Positive Rate or (1 - Specifity)\")\n",
    "pyplot.ylabel(\"True Positive Rate or (Sensitivity)\")\n",
    "pyplot.title(\"Receiver Operating Characteristic\")\n",
    "\n",
    "pyplot.legend()\n",
    "pyplot.show()"
   ]
  },
  {
   "cell_type": "markdown",
   "metadata": {},
   "source": [
    "##### 9. Gradient Boosting Classifier in Test Data 2014"
   ]
  },
  {
   "cell_type": "code",
   "execution_count": 84,
   "metadata": {},
   "outputs": [],
   "source": [
    "# Defining data for running the model\n",
    "\n",
    "target_test_f=pd.DataFrame(final_test_set['target'])\n",
    "test_f=pd.DataFrame(final_test_set[['max_gift', 'avg_amount last 10year', 'sum gifts last 2year', \n",
    "                                    'avg_amount year one', 'Sum gifts last year']])"
   ]
  },
  {
   "cell_type": "code",
   "execution_count": 85,
   "metadata": {},
   "outputs": [
    {
     "name": "stdout",
     "output_type": "stream",
     "text": [
      "AUC Test :  0.6603166000045664\n"
     ]
    }
   ],
   "source": [
    "# Making predictions and calculating AUC Test with the previous Gradient Boosting Model\n",
    "\n",
    "y_pred_test_f = Model_GradientBoostingClassifier.predict(test_f)\n",
    "y_pred_prob_test_f = Model_GradientBoostingClassifier.predict_proba(test_f)[:,1]\n",
    "\n",
    "auc_score_test_f = roc_auc_score(target_test_f,y_pred_prob_test_f)\n",
    "print(\"AUC Test : \", auc_score_test_f)  #We can see that the AUC Test has an slight variation"
   ]
  },
  {
   "cell_type": "code",
   "execution_count": 86,
   "metadata": {},
   "outputs": [
    {
     "data": {
      "image/png": "[encoded data removed]",
      "text/plain": [
       "<Figure size 432x288 with 1 Axes>"
      ]
     },
     "metadata": {
      "needs_background": "light"
     },
     "output_type": "display_data"
    }
   ],
   "source": [
    "# ROC Curve\n",
    "\n",
    "fpr, tpr, thresholds = roc_curve(target_test_f,y_pred_prob_test_f)\n",
    "\n",
    "pyplot.plot([0,1], [0,1], 'k--')\n",
    "pyplot.plot(fpr, tpr)\n",
    "pyplot.xlabel(\"False posititve rate\")\n",
    "pyplot.ylabel(\"True positive rate\")\n",
    "pyplot.title(\"ROC Curve\")\n",
    "pyplot.show()\n"
   ]
  },
  {
   "cell_type": "code",
   "execution_count": 87,
   "metadata": {},
   "outputs": [
    {
     "data": {
      "image/png": "[encoded data removed]",
      "text/plain": [
       "<Figure size 432x288 with 1 Axes>"
      ]
     },
     "metadata": {
      "needs_background": "light"
     },
     "output_type": "display_data"
    }
   ],
   "source": [
    "# Cumulative Gains\n",
    "\n",
    "predictions_bost_final=Model_GradientBoostingClassifier.predict_proba(test_f)\n",
    "actuals_bost_final= final_test_set[\"target\"]\n",
    "skplt.metrics.plot_cumulative_gain(actuals_bost_final, predictions_bost_final)\n",
    "pyplot.show()"
   ]
  },
  {
   "cell_type": "code",
   "execution_count": 88,
   "metadata": {},
   "outputs": [
    {
     "data": {
      "image/png": "[encoded data removed]",
      "text/plain": [
       "<Figure size 432x432 with 1 Axes>"
      ]
     },
     "metadata": {
      "needs_background": "light"
     },
     "output_type": "display_data"
    }
   ],
   "source": [
    "# Lift Curve\n",
    "\n",
    "predictions_bost_final=Model_GradientBoostingClassifier.predict_proba(test_f)\n",
    "actuals_bost_final= final_test_set[\"target\"]\n",
    "skplt.metrics.plot_lift_curve(actuals_bost_final,predictions_bost_final, figsize= (6, 6))\n",
    "pyplot.show()"
   ]
  }
 ],
 "metadata": {
  "kernelspec": {
   "display_name": "Python 3",
   "language": "python",
   "name": "python3"
  },
  "language_info": {
   "codemirror_mode": {
    "name": "ipython",
    "version": 3
   },
   "file_extension": ".py",
   "mimetype": "text/x-python",
   "name": "python",
   "nbconvert_exporter": "python",
   "pygments_lexer": "ipython3",
   "version": "3.7.3"
  }
 },
 "nbformat": 4,
 "nbformat_minor": 2
}
